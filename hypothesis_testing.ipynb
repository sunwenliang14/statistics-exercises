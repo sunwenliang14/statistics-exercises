{
 "cells": [
  {
   "cell_type": "markdown",
   "metadata": {},
   "source": [
    "# Has the network latency gone up since we switched internet service providers?\n",
    "\n",
    "$H_0$: The network latency hasn't gone up since we switched internet service providers \n",
    "\n",
    "$H_a$: The network latency has gone up since we switched internet service providers\n",
    "\n",
    "True Negative : Failed to reject $H_0$, \n",
    "\n",
    "True Positive\n",
    "- small p-value -- < alpha (.001)\n",
    "- reject $H_0$\n",
    "- avg network latency  before switched internet service providers: 60ms\n",
    "- avg network latency  after switched internet service providers:  50ms\n",
    "\n",
    "False Positive\n",
    "- small p-value -- < alpha (.001)\n",
    "- reject $H_0$\n",
    "- The internet speed actually not inproved, but due to lower usage, the test result looks it has improved\n",
    "True Negative\n",
    "- higher p-value\n",
    "- fail to reject $H_0$\n",
    "- avg network latency  before switched internet service providers: 60ms\n",
    "- avg network latency  after switched internet service providers: 61ms\n",
    "\n",
    "False Negative\n",
    "- higher p-value\n",
    "- fail to reject $H_0$\n",
    "- avg network latency  before switched internet service providers: 60ms\n",
    "- avg survey score after plants: 61ms\n",
    "- The internet speed indeed inproved, but due to high usage, it didn't show up on the result"
   ]
  },
  {
   "cell_type": "markdown",
   "metadata": {},
   "source": [
    "# Is the website redesign any good?\n",
    "$H_0$: The website redesign is same as before.\n",
    "\n",
    "$H_a$: The website redesign is better than before.\n",
    "\n",
    "True Positive\n",
    "- small p-value -- < alpha (.001)\n",
    "- reject $H_0$\n",
    "- the click rate before the web redesign is 30%\n",
    "- the click rate after the web redesign is 40%\n",
    "\n",
    "False Positive\n",
    "- small p-value -- < alpha (.001)\n",
    "- reject $H_0$\n",
    "- the click rate before the web redesign is 30%\n",
    "- the click rate after the web redesign is 40%\n",
    "- Maybe beacuse a special event happened increased the click rate\n",
    "\n",
    "True Negative\n",
    "- higher p-value\n",
    "- fail to reject $H_0$\n",
    "- the click rate before the web redesign is 30%\n",
    "- the click rate after the web redesign is 30%\n",
    "\n",
    "False Negative\n",
    "- higher p-value\n",
    "- fail to reject $H_0$\n",
    "- the click rate before the web redesign is 30%\n",
    "- the click rate after the web redesign is 31%\n",
    "- The test results has no significant difference, but the reality is there is a significant difference "
   ]
  },
  {
   "cell_type": "markdown",
   "metadata": {},
   "source": [
    "# Is our television ad driving more sales?\n",
    "$H_0$:  Our sales is same as before since the start of our television ad.\n",
    "\n",
    "$H_a$:  Our sales is actually increased since the start of our television ad\n",
    "\n",
    "True Positive\n",
    "- small p-value -- < alpha (.001)\n",
    "- reject $H_0$\n",
    "- Our sales  before the start of television ad is 10000\n",
    "- Our sales  after  the start of television ad is 15000\n",
    "- taking into consideration, there's no other factors affect the results\n",
    "\n",
    "False Positive\n",
    "- small p-value -- < alpha (.001)\n",
    "- reject $H_0$\n",
    "- Our sales  before the start of television ad is 10000\n",
    "- Our sales  after  the start of television ad is 15000\n",
    "- Maybe a pandemic happens and our sales increased, no significant evidence to prove it's because of our television ad\n",
    "\n",
    "True Negative\n",
    "- higher p-value\n",
    "- fail to reject $H_0$\n",
    "- Our sales  before the start of television ad is 10000\n",
    "- Our sales  after  the start of television ad is 10500\n",
    "- no significant evidence to show the sale is actually changed a lot\n",
    "\n",
    "False Negative\n",
    "- higher p-value\n",
    "- fail to reject $H_0$\n",
    "- Our sales  before the start of television ad is 10000\n",
    "- Our sales  after  the start of television ad is 10000\n",
    "- The test results has no significant difference, but the reality is there is a significant difference of sales between before the tlevision ad and after the television ad"
   ]
  },
  {
   "cell_type": "code",
   "execution_count": 1,
   "metadata": {},
   "outputs": [],
   "source": [
    "from math import sqrt\n",
    "from scipy import stats\n",
    "\n",
    "%matplotlib inline\n",
    "import matplotlib.pyplot as plt\n",
    "import numpy as np\n",
    "import pandas as pd\n",
    "from pydataset import data\n",
    "df = pd.read_csv('exam_scores.csv')\n",
    "df.study_strategy.fillna('None', inplace=True)"
   ]
  },
  {
   "attachments": {
    "image.png": {
     "image/png": "[encoded data removed]"
    }
   },
   "cell_type": "markdown",
   "metadata": {},
   "source": [
    " # exercise 1\n",
    " Ace Realty wants to determine whether the average time it takes to sell homes is different for its two offices. A sample of 40 sales from office #1 revealed a mean of 90 days and a standard deviation of 15 days. A sample of 50 sales from office #2 revealed a mean of 100 days and a standard deviation of 20 days. Use a .05 level of significance.\n",
    " \n",
    " ![image.png](attachment:image.png)"
   ]
  },
  {
   "cell_type": "markdown",
   "metadata": {},
   "source": [
    "$H_0$: There is no difference in regard to the average time for selling homes for its two offices\n",
    "\n",
    "$H_a$: There is a difference in regard to the average time for selling homes for its two offices"
   ]
  },
  {
   "cell_type": "code",
   "execution_count": 2,
   "metadata": {},
   "outputs": [],
   "source": [
    "n1 = 40\n",
    "s1 = 15\n",
    "x̄1 = 90\n",
    "n2 = 50\n",
    "s2 = 20\n",
    "x̄2 = 100\n",
    "degf = (n1 + n2) - 2"
   ]
  },
  {
   "cell_type": "code",
   "execution_count": 3,
   "metadata": {},
   "outputs": [
    {
     "data": {
      "text/plain": [
       "17.956702977389302"
      ]
     },
     "execution_count": 3,
     "metadata": {},
     "output_type": "execute_result"
    }
   ],
   "source": [
    "Sp = sqrt(((n1-1)*s1**2 +(n2-1)*s2**2)/(n1+n2-2))\n",
    "Sp"
   ]
  },
  {
   "cell_type": "code",
   "execution_count": 4,
   "metadata": {},
   "outputs": [
    {
     "data": {
      "text/plain": [
       "-2.6252287036468456"
      ]
     },
     "execution_count": 4,
     "metadata": {},
     "output_type": "execute_result"
    }
   ],
   "source": [
    "t = (x̄1 - x̄2) / (Sp * sqrt(1 / n1 + 1 / n2))\n",
    "t"
   ]
  },
  {
   "cell_type": "code",
   "execution_count": 5,
   "metadata": {},
   "outputs": [
    {
     "data": {
      "text/plain": [
       "1.9897901475507607"
      ]
     },
     "execution_count": 5,
     "metadata": {},
     "output_type": "execute_result"
    }
   ],
   "source": [
    "p = stats.t(degf).sf(t) * 2\n",
    "p"
   ]
  },
  {
   "cell_type": "markdown",
   "metadata": {},
   "source": [
    "because p 1.99 > 0.05, we failed to reject H0, which indicates that there is a difference in regard to the average time for selling homes for its two offices"
   ]
  },
  {
   "cell_type": "code",
   "execution_count": 26,
   "metadata": {},
   "outputs": [
    {
     "data": {
      "text/html": [
       "<div>\n",
       "<style scoped>\n",
       "    .dataframe tbody tr th:only-of-type {\n",
       "        vertical-align: middle;\n",
       "    }\n",
       "\n",
       "    .dataframe tbody tr th {\n",
       "        vertical-align: top;\n",
       "    }\n",
       "\n",
       "    .dataframe thead th {\n",
       "        text-align: right;\n",
       "    }\n",
       "</style>\n",
       "<table border=\"1\" class=\"dataframe\">\n",
       "  <thead>\n",
       "    <tr style=\"text-align: right;\">\n",
       "      <th></th>\n",
       "      <th>manufacturer</th>\n",
       "      <th>model</th>\n",
       "      <th>displ</th>\n",
       "      <th>year</th>\n",
       "      <th>cyl</th>\n",
       "      <th>trans</th>\n",
       "      <th>drv</th>\n",
       "      <th>cty</th>\n",
       "      <th>hwy</th>\n",
       "      <th>fl</th>\n",
       "      <th>class_type</th>\n",
       "    </tr>\n",
       "  </thead>\n",
       "  <tbody>\n",
       "    <tr>\n",
       "      <td>1</td>\n",
       "      <td>audi</td>\n",
       "      <td>a4</td>\n",
       "      <td>1.8</td>\n",
       "      <td>1999</td>\n",
       "      <td>4</td>\n",
       "      <td>auto(l5)</td>\n",
       "      <td>f</td>\n",
       "      <td>18</td>\n",
       "      <td>29</td>\n",
       "      <td>p</td>\n",
       "      <td>compact</td>\n",
       "    </tr>\n",
       "    <tr>\n",
       "      <td>2</td>\n",
       "      <td>audi</td>\n",
       "      <td>a4</td>\n",
       "      <td>1.8</td>\n",
       "      <td>1999</td>\n",
       "      <td>4</td>\n",
       "      <td>manual(m5)</td>\n",
       "      <td>f</td>\n",
       "      <td>21</td>\n",
       "      <td>29</td>\n",
       "      <td>p</td>\n",
       "      <td>compact</td>\n",
       "    </tr>\n",
       "    <tr>\n",
       "      <td>3</td>\n",
       "      <td>audi</td>\n",
       "      <td>a4</td>\n",
       "      <td>2.0</td>\n",
       "      <td>2008</td>\n",
       "      <td>4</td>\n",
       "      <td>manual(m6)</td>\n",
       "      <td>f</td>\n",
       "      <td>20</td>\n",
       "      <td>31</td>\n",
       "      <td>p</td>\n",
       "      <td>compact</td>\n",
       "    </tr>\n",
       "    <tr>\n",
       "      <td>4</td>\n",
       "      <td>audi</td>\n",
       "      <td>a4</td>\n",
       "      <td>2.0</td>\n",
       "      <td>2008</td>\n",
       "      <td>4</td>\n",
       "      <td>auto(av)</td>\n",
       "      <td>f</td>\n",
       "      <td>21</td>\n",
       "      <td>30</td>\n",
       "      <td>p</td>\n",
       "      <td>compact</td>\n",
       "    </tr>\n",
       "    <tr>\n",
       "      <td>5</td>\n",
       "      <td>audi</td>\n",
       "      <td>a4</td>\n",
       "      <td>2.8</td>\n",
       "      <td>1999</td>\n",
       "      <td>6</td>\n",
       "      <td>auto(l5)</td>\n",
       "      <td>f</td>\n",
       "      <td>16</td>\n",
       "      <td>26</td>\n",
       "      <td>p</td>\n",
       "      <td>compact</td>\n",
       "    </tr>\n",
       "    <tr>\n",
       "      <td>...</td>\n",
       "      <td>...</td>\n",
       "      <td>...</td>\n",
       "      <td>...</td>\n",
       "      <td>...</td>\n",
       "      <td>...</td>\n",
       "      <td>...</td>\n",
       "      <td>...</td>\n",
       "      <td>...</td>\n",
       "      <td>...</td>\n",
       "      <td>...</td>\n",
       "      <td>...</td>\n",
       "    </tr>\n",
       "    <tr>\n",
       "      <td>230</td>\n",
       "      <td>volkswagen</td>\n",
       "      <td>passat</td>\n",
       "      <td>2.0</td>\n",
       "      <td>2008</td>\n",
       "      <td>4</td>\n",
       "      <td>auto(s6)</td>\n",
       "      <td>f</td>\n",
       "      <td>19</td>\n",
       "      <td>28</td>\n",
       "      <td>p</td>\n",
       "      <td>midsize</td>\n",
       "    </tr>\n",
       "    <tr>\n",
       "      <td>231</td>\n",
       "      <td>volkswagen</td>\n",
       "      <td>passat</td>\n",
       "      <td>2.0</td>\n",
       "      <td>2008</td>\n",
       "      <td>4</td>\n",
       "      <td>manual(m6)</td>\n",
       "      <td>f</td>\n",
       "      <td>21</td>\n",
       "      <td>29</td>\n",
       "      <td>p</td>\n",
       "      <td>midsize</td>\n",
       "    </tr>\n",
       "    <tr>\n",
       "      <td>232</td>\n",
       "      <td>volkswagen</td>\n",
       "      <td>passat</td>\n",
       "      <td>2.8</td>\n",
       "      <td>1999</td>\n",
       "      <td>6</td>\n",
       "      <td>auto(l5)</td>\n",
       "      <td>f</td>\n",
       "      <td>16</td>\n",
       "      <td>26</td>\n",
       "      <td>p</td>\n",
       "      <td>midsize</td>\n",
       "    </tr>\n",
       "    <tr>\n",
       "      <td>233</td>\n",
       "      <td>volkswagen</td>\n",
       "      <td>passat</td>\n",
       "      <td>2.8</td>\n",
       "      <td>1999</td>\n",
       "      <td>6</td>\n",
       "      <td>manual(m5)</td>\n",
       "      <td>f</td>\n",
       "      <td>18</td>\n",
       "      <td>26</td>\n",
       "      <td>p</td>\n",
       "      <td>midsize</td>\n",
       "    </tr>\n",
       "    <tr>\n",
       "      <td>234</td>\n",
       "      <td>volkswagen</td>\n",
       "      <td>passat</td>\n",
       "      <td>3.6</td>\n",
       "      <td>2008</td>\n",
       "      <td>6</td>\n",
       "      <td>auto(s6)</td>\n",
       "      <td>f</td>\n",
       "      <td>17</td>\n",
       "      <td>26</td>\n",
       "      <td>p</td>\n",
       "      <td>midsize</td>\n",
       "    </tr>\n",
       "  </tbody>\n",
       "</table>\n",
       "<p>234 rows × 11 columns</p>\n",
       "</div>"
      ],
      "text/plain": [
       "    manufacturer   model  displ  year  cyl       trans drv  cty  hwy fl  \\\n",
       "1           audi      a4    1.8  1999    4    auto(l5)   f   18   29  p   \n",
       "2           audi      a4    1.8  1999    4  manual(m5)   f   21   29  p   \n",
       "3           audi      a4    2.0  2008    4  manual(m6)   f   20   31  p   \n",
       "4           audi      a4    2.0  2008    4    auto(av)   f   21   30  p   \n",
       "5           audi      a4    2.8  1999    6    auto(l5)   f   16   26  p   \n",
       "..           ...     ...    ...   ...  ...         ...  ..  ...  ... ..   \n",
       "230   volkswagen  passat    2.0  2008    4    auto(s6)   f   19   28  p   \n",
       "231   volkswagen  passat    2.0  2008    4  manual(m6)   f   21   29  p   \n",
       "232   volkswagen  passat    2.8  1999    6    auto(l5)   f   16   26  p   \n",
       "233   volkswagen  passat    2.8  1999    6  manual(m5)   f   18   26  p   \n",
       "234   volkswagen  passat    3.6  2008    6    auto(s6)   f   17   26  p   \n",
       "\n",
       "    class_type  \n",
       "1      compact  \n",
       "2      compact  \n",
       "3      compact  \n",
       "4      compact  \n",
       "5      compact  \n",
       "..         ...  \n",
       "230    midsize  \n",
       "231    midsize  \n",
       "232    midsize  \n",
       "233    midsize  \n",
       "234    midsize  \n",
       "\n",
       "[234 rows x 11 columns]"
      ]
     },
     "execution_count": 26,
     "metadata": {},
     "output_type": "execute_result"
    }
   ],
   "source": [
    "mpg = data('mpg')\n",
    "mpg = mpg.rename(columns = {'class':'class_type'})\n",
    "mpg"
   ]
  },
  {
   "cell_type": "markdown",
   "metadata": {},
   "source": [
    "# Load the mpg dataset and use it to answer the following questions:\n",
    "\n",
    "Is there a difference in fuel-efficiency in cars from 2008 vs 1999?\n",
    "\n",
    "Are compact cars more fuel-efficient than the average car?\n",
    "\n",
    "Do manual cars get better gas mileage than automatic cars?"
   ]
  },
  {
   "cell_type": "markdown",
   "metadata": {},
   "source": [
    "# 1\n",
    "$H_0$: There is no difference in fuel-efficiency in cars from 2008 vs 1999\n",
    "\n",
    "$H_a$: There is a difference in fuel-efficiency in cars from 2008 vs 1999\n",
    "\n",
    "confidence level: 0.05"
   ]
  },
  {
   "cell_type": "code",
   "execution_count": 27,
   "metadata": {},
   "outputs": [],
   "source": [
    "x1 = mpg[mpg.year == 1999].hwy\n",
    "x2 = mpg[mpg.year == 2008].hwy"
   ]
  },
  {
   "cell_type": "code",
   "execution_count": 28,
   "metadata": {},
   "outputs": [
    {
     "data": {
      "text/plain": [
       "(-0.03286431672888292, 0.9738110448529322)"
      ]
     },
     "execution_count": 28,
     "metadata": {},
     "output_type": "execute_result"
    }
   ],
   "source": [
    "tstat, p = stats.ttest_ind(x1, x2)\n",
    "tstat, p \n",
    "# Since p value 0.97 is much higher than a value 0.05, failed reject the H0,\n",
    "# which means there is no difference between them."
   ]
  },
  {
   "cell_type": "markdown",
   "metadata": {},
   "source": [
    "# 2\n",
    "\n",
    "$H_0$: There is no difference in fuel-efficiency between compact cars and the average car\n",
    "\n",
    "$H_a$: Compact cars are morefuel-efficient than the average car\n",
    "\n",
    "confidence level: 0.05\n"
   ]
  },
  {
   "cell_type": "code",
   "execution_count": 52,
   "metadata": {},
   "outputs": [
    {
     "data": {
      "text/plain": [
       "True"
      ]
     },
     "execution_count": 52,
     "metadata": {},
     "output_type": "execute_result"
    }
   ],
   "source": [
    "x = mpg[mpg.class_type == 'compact'].hwy\n",
    "mu = mpg.hwy.mean()\n",
    "p = stats.ttest_1samp(x, mu)\n",
    "p[1] < 0.05\n",
    "\n",
    "# Since p value is less than a value, reject the null hypothesis, which means there is a statistically significant\n",
    "# diffrence between compact cars and the average cars in regard to fuel-efficient"
   ]
  },
  {
   "cell_type": "markdown",
   "metadata": {},
   "source": [
    "# 3\n",
    "\n",
    "- $H_0$: Manual cars are same as automatic cars in regard to gas mileage \n",
    "- $H_a$: manual cars get better gas mileage than automatic cars\n",
    "- confidence level: 0.05\n"
   ]
  },
  {
   "cell_type": "code",
   "execution_count": 75,
   "metadata": {},
   "outputs": [],
   "source": [
    "auto = mpg.trans.str.contains('auto')\n",
    "manual = mpg.trans.str.contains('manual')\n",
    "x1=mpg[auto].hwy\n",
    "x2=mpg[manual].hwy"
   ]
  },
  {
   "cell_type": "code",
   "execution_count": 76,
   "metadata": {},
   "outputs": [
    {
     "data": {
      "text/plain": [
       "(-4.368349972819688, 1.888044765552951e-05)"
      ]
     },
     "execution_count": 76,
     "metadata": {},
     "output_type": "execute_result"
    }
   ],
   "source": [
    "tstat, p = stats.ttest_ind(x1, x2)\n",
    "tstat, p \n",
    "# Since p value is greater than a value, failed to reject the null hypothesis, that there is no \n",
    "# statistically significant difference between manual cars and automatic cars in regard to gas mileage"
   ]
  },
  {
   "cell_type": "code",
   "execution_count": null,
   "metadata": {},
   "outputs": [],
   "source": []
  }
 ],
 "metadata": {
  "kernelspec": {
   "display_name": "Python 3",
   "language": "python",
   "name": "python3"
  },
  "language_info": {
   "codemirror_mode": {
    "name": "ipython",
    "version": 3
   },
   "file_extension": ".py",
   "mimetype": "text/x-python",
   "name": "python",
   "nbconvert_exporter": "python",
   "pygments_lexer": "ipython3",
   "version": "3.7.4"
  }
 },
 "nbformat": 4,
 "nbformat_minor": 2
}
