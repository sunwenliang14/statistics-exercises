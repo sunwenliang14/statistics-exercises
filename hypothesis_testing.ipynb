{
 "cells": [
  {
   "cell_type": "markdown",
   "metadata": {},
   "source": [
    "# Has the network latency gone up since we switched internet service providers?\n",
    "\n",
    "$H_0$: The network latency hasn't gone up since we switched internet service providers \n",
    "\n",
    "$H_a$: The network latency has gone up since we switched internet service providers\n",
    "\n",
    "True Negative : Failed to reject $H_0$, \n",
    "\n",
    "True Positive\n",
    "- small p-value -- < alpha (.001)\n",
    "- reject $H_0$\n",
    "- avg network latency  before switched internet service providers: 60ms\n",
    "- avg network latency  after switched internet service providers:  50ms\n",
    "\n",
    "False Positive\n",
    "- small p-value -- < alpha (.001)\n",
    "- reject $H_0$\n",
    "- The internet speed actually not inproved, but due to lower usage, the test result looks it has improved\n",
    "True Negative\n",
    "- higher p-value\n",
    "- fail to reject $H_0$\n",
    "- avg network latency  before switched internet service providers: 60ms\n",
    "- avg network latency  after switched internet service providers: 61ms\n",
    "\n",
    "False Negative\n",
    "- higher p-value\n",
    "- fail to reject $H_0$\n",
    "- avg network latency  before switched internet service providers: 60ms\n",
    "- avg survey score after plants: 61ms\n",
    "- The internet speed indeed inproved, but due to high usage, it didn't show up on the result"
   ]
  },
  {
   "cell_type": "markdown",
   "metadata": {},
   "source": [
    "# Is the website redesign any good?\n",
    "$H_0$: The website redesign is same as before.\n",
    "\n",
    "$H_a$: The website redesign is better than before.\n",
    "\n",
    "True Positive\n",
    "- small p-value -- < alpha (.001)\n",
    "- reject $H_0$\n",
    "- the click rate before the web redesign is 30%\n",
    "- the click rate after the web redesign is 40%\n",
    "\n",
    "False Positive\n",
    "- small p-value -- < alpha (.001)\n",
    "- reject $H_0$\n",
    "- the click rate before the web redesign is 30%\n",
    "- the click rate after the web redesign is 40%\n",
    "- Maybe beacuse a special event happened increased the click rate\n",
    "\n",
    "True Negative\n",
    "- higher p-value\n",
    "- fail to reject $H_0$\n",
    "- the click rate before the web redesign is 30%\n",
    "- the click rate after the web redesign is 30%\n",
    "\n",
    "False Negative\n",
    "- higher p-value\n",
    "- fail to reject $H_0$\n",
    "- the click rate before the web redesign is 30%\n",
    "- the click rate after the web redesign is 31%\n",
    "- The test results has no significant difference, but the reality is there is a significant difference "
   ]
  },
  {
   "cell_type": "markdown",
   "metadata": {},
   "source": [
    "# Is our television ad driving more sales?\n",
    "$H_0$:  Our sales is same as before since the start of our television ad.\n",
    "\n",
    "$H_a$:  Our sales is actually increased since the start of our television ad\n",
    "\n",
    "True Positive\n",
    "- small p-value -- < alpha (.001)\n",
    "- reject $H_0$\n",
    "- Our sales  before the start of television ad is 10000\n",
    "- Our sales  after  the start of television ad is 15000\n",
    "- taking into consideration, there's no other factors affect the results\n",
    "\n",
    "False Positive\n",
    "- small p-value -- < alpha (.001)\n",
    "- reject $H_0$\n",
    "- Our sales  before the start of television ad is 10000\n",
    "- Our sales  after  the start of television ad is 15000\n",
    "- Maybe a pandemic happens and our sales increased, no significant evidence to prove it's because of our television ad\n",
    "\n",
    "True Negative\n",
    "- higher p-value\n",
    "- fail to reject $H_0$\n",
    "- Our sales  before the start of television ad is 10000\n",
    "- Our sales  after  the start of television ad is 10500\n",
    "- no significant evidence to show the sale is actually changed a lot\n",
    "\n",
    "False Negative\n",
    "- higher p-value\n",
    "- fail to reject $H_0$\n",
    "- Our sales  before the start of television ad is 10000\n",
    "- Our sales  after  the start of television ad is 10000\n",
    "- The test results has no significant difference, but the reality is there is a significant difference of sales between before the tlevision ad and after the television ad"
   ]
  },
  {
   "cell_type": "code",
   "execution_count": 1,
   "metadata": {},
   "outputs": [],
   "source": [
    "from math import sqrt\n",
    "from scipy import stats\n",
    "\n",
    "%matplotlib inline\n",
    "import matplotlib.pyplot as plt\n",
    "import numpy as np\n",
    "import pandas as pd\n",
    "from pydataset import data\n",
    "df = pd.read_csv('exam_scores.csv')\n",
    "df.study_strategy.fillna('None', inplace=True)"
   ]
  },
  {
   "attachments": {
    "image.png": {
     "image/png": "[encoded data removed]"
    }
   },
   "cell_type": "markdown",
   "metadata": {},
   "source": [
    " # exercise 1\n",
    " Ace Realty wants to determine whether the average time it takes to sell homes is different for its two offices. A sample of 40 sales from office #1 revealed a mean of 90 days and a standard deviation of 15 days. A sample of 50 sales from office #2 revealed a mean of 100 days and a standard deviation of 20 days. Use a .05 level of significance.\n",
    " \n",
    " ![image.png](attachment:image.png)"
   ]
  },
  {
   "cell_type": "markdown",
   "metadata": {},
   "source": [
    "$H_0$: There is no difference in regard to the average time for selling homes for its two offices\n",
    "\n",
    "$H_a$: There is a difference in regard to the average time for selling homes for its two offices"
   ]
  },
  {
   "cell_type": "code",
   "execution_count": 2,
   "metadata": {},
   "outputs": [],
   "source": [
    "n1 = 40\n",
    "s1 = 15\n",
    "x̄1 = 90\n",
    "n2 = 50\n",
    "s2 = 20\n",
    "x̄2 = 100\n",
    "degf = (n1 + n2) - 2"
   ]
  },
  {
   "cell_type": "code",
   "execution_count": 3,
   "metadata": {},
   "outputs": [
    {
     "data": {
      "text/plain": [
       "17.956702977389302"
      ]
     },
     "execution_count": 3,
     "metadata": {},
     "output_type": "execute_result"
    }
   ],
   "source": [
    "Sp = sqrt(((n1-1)*s1**2 +(n2-1)*s2**2)/(n1+n2-2))\n",
    "Sp"
   ]
  },
  {
   "cell_type": "code",
   "execution_count": 4,
   "metadata": {},
   "outputs": [
    {
     "data": {
      "text/plain": [
       "-2.6252287036468456"
      ]
     },
     "execution_count": 4,
     "metadata": {},
     "output_type": "execute_result"
    }
   ],
   "source": [
    "t = (x̄1 - x̄2) / (Sp * sqrt(1 / n1 + 1 / n2))\n",
    "t"
   ]
  },
  {
   "cell_type": "code",
   "execution_count": 5,
   "metadata": {},
   "outputs": [
    {
     "data": {
      "text/plain": [
       "0.01020985244923939"
      ]
     },
     "execution_count": 5,
     "metadata": {},
     "output_type": "execute_result"
    }
   ],
   "source": [
    "p = stats.t(degf).cdf(t) * 2\n",
    "p"
   ]
  },
  {
   "cell_type": "markdown",
   "metadata": {},
   "source": [
    "because p value is less than a value, reject the null hypothesis, which indicates that there is a statistically significant difference in regard to the average time for selling homes for its two offices"
   ]
  },
  {
   "cell_type": "code",
   "execution_count": 64,
   "metadata": {},
   "outputs": [
    {
     "data": {
      "text/html": [
       "<div>\n",
       "<style scoped>\n",
       "    .dataframe tbody tr th:only-of-type {\n",
       "        vertical-align: middle;\n",
       "    }\n",
       "\n",
       "    .dataframe tbody tr th {\n",
       "        vertical-align: top;\n",
       "    }\n",
       "\n",
       "    .dataframe thead th {\n",
       "        text-align: right;\n",
       "    }\n",
       "</style>\n",
       "<table border=\"1\" class=\"dataframe\">\n",
       "  <thead>\n",
       "    <tr style=\"text-align: right;\">\n",
       "      <th></th>\n",
       "      <th>manufacturer</th>\n",
       "      <th>model</th>\n",
       "      <th>displ</th>\n",
       "      <th>year</th>\n",
       "      <th>cyl</th>\n",
       "      <th>trans</th>\n",
       "      <th>drv</th>\n",
       "      <th>cty</th>\n",
       "      <th>hwy</th>\n",
       "      <th>fl</th>\n",
       "      <th>class_type</th>\n",
       "    </tr>\n",
       "  </thead>\n",
       "  <tbody>\n",
       "    <tr>\n",
       "      <td>1</td>\n",
       "      <td>audi</td>\n",
       "      <td>a4</td>\n",
       "      <td>1.8</td>\n",
       "      <td>1999</td>\n",
       "      <td>4</td>\n",
       "      <td>auto(l5)</td>\n",
       "      <td>f</td>\n",
       "      <td>18</td>\n",
       "      <td>29</td>\n",
       "      <td>p</td>\n",
       "      <td>compact</td>\n",
       "    </tr>\n",
       "    <tr>\n",
       "      <td>2</td>\n",
       "      <td>audi</td>\n",
       "      <td>a4</td>\n",
       "      <td>1.8</td>\n",
       "      <td>1999</td>\n",
       "      <td>4</td>\n",
       "      <td>manual(m5)</td>\n",
       "      <td>f</td>\n",
       "      <td>21</td>\n",
       "      <td>29</td>\n",
       "      <td>p</td>\n",
       "      <td>compact</td>\n",
       "    </tr>\n",
       "    <tr>\n",
       "      <td>3</td>\n",
       "      <td>audi</td>\n",
       "      <td>a4</td>\n",
       "      <td>2.0</td>\n",
       "      <td>2008</td>\n",
       "      <td>4</td>\n",
       "      <td>manual(m6)</td>\n",
       "      <td>f</td>\n",
       "      <td>20</td>\n",
       "      <td>31</td>\n",
       "      <td>p</td>\n",
       "      <td>compact</td>\n",
       "    </tr>\n",
       "    <tr>\n",
       "      <td>4</td>\n",
       "      <td>audi</td>\n",
       "      <td>a4</td>\n",
       "      <td>2.0</td>\n",
       "      <td>2008</td>\n",
       "      <td>4</td>\n",
       "      <td>auto(av)</td>\n",
       "      <td>f</td>\n",
       "      <td>21</td>\n",
       "      <td>30</td>\n",
       "      <td>p</td>\n",
       "      <td>compact</td>\n",
       "    </tr>\n",
       "    <tr>\n",
       "      <td>5</td>\n",
       "      <td>audi</td>\n",
       "      <td>a4</td>\n",
       "      <td>2.8</td>\n",
       "      <td>1999</td>\n",
       "      <td>6</td>\n",
       "      <td>auto(l5)</td>\n",
       "      <td>f</td>\n",
       "      <td>16</td>\n",
       "      <td>26</td>\n",
       "      <td>p</td>\n",
       "      <td>compact</td>\n",
       "    </tr>\n",
       "    <tr>\n",
       "      <td>...</td>\n",
       "      <td>...</td>\n",
       "      <td>...</td>\n",
       "      <td>...</td>\n",
       "      <td>...</td>\n",
       "      <td>...</td>\n",
       "      <td>...</td>\n",
       "      <td>...</td>\n",
       "      <td>...</td>\n",
       "      <td>...</td>\n",
       "      <td>...</td>\n",
       "      <td>...</td>\n",
       "    </tr>\n",
       "    <tr>\n",
       "      <td>230</td>\n",
       "      <td>volkswagen</td>\n",
       "      <td>passat</td>\n",
       "      <td>2.0</td>\n",
       "      <td>2008</td>\n",
       "      <td>4</td>\n",
       "      <td>auto(s6)</td>\n",
       "      <td>f</td>\n",
       "      <td>19</td>\n",
       "      <td>28</td>\n",
       "      <td>p</td>\n",
       "      <td>midsize</td>\n",
       "    </tr>\n",
       "    <tr>\n",
       "      <td>231</td>\n",
       "      <td>volkswagen</td>\n",
       "      <td>passat</td>\n",
       "      <td>2.0</td>\n",
       "      <td>2008</td>\n",
       "      <td>4</td>\n",
       "      <td>manual(m6)</td>\n",
       "      <td>f</td>\n",
       "      <td>21</td>\n",
       "      <td>29</td>\n",
       "      <td>p</td>\n",
       "      <td>midsize</td>\n",
       "    </tr>\n",
       "    <tr>\n",
       "      <td>232</td>\n",
       "      <td>volkswagen</td>\n",
       "      <td>passat</td>\n",
       "      <td>2.8</td>\n",
       "      <td>1999</td>\n",
       "      <td>6</td>\n",
       "      <td>auto(l5)</td>\n",
       "      <td>f</td>\n",
       "      <td>16</td>\n",
       "      <td>26</td>\n",
       "      <td>p</td>\n",
       "      <td>midsize</td>\n",
       "    </tr>\n",
       "    <tr>\n",
       "      <td>233</td>\n",
       "      <td>volkswagen</td>\n",
       "      <td>passat</td>\n",
       "      <td>2.8</td>\n",
       "      <td>1999</td>\n",
       "      <td>6</td>\n",
       "      <td>manual(m5)</td>\n",
       "      <td>f</td>\n",
       "      <td>18</td>\n",
       "      <td>26</td>\n",
       "      <td>p</td>\n",
       "      <td>midsize</td>\n",
       "    </tr>\n",
       "    <tr>\n",
       "      <td>234</td>\n",
       "      <td>volkswagen</td>\n",
       "      <td>passat</td>\n",
       "      <td>3.6</td>\n",
       "      <td>2008</td>\n",
       "      <td>6</td>\n",
       "      <td>auto(s6)</td>\n",
       "      <td>f</td>\n",
       "      <td>17</td>\n",
       "      <td>26</td>\n",
       "      <td>p</td>\n",
       "      <td>midsize</td>\n",
       "    </tr>\n",
       "  </tbody>\n",
       "</table>\n",
       "<p>234 rows × 11 columns</p>\n",
       "</div>"
      ],
      "text/plain": [
       "    manufacturer   model  displ  year  cyl       trans drv  cty  hwy fl  \\\n",
       "1           audi      a4    1.8  1999    4    auto(l5)   f   18   29  p   \n",
       "2           audi      a4    1.8  1999    4  manual(m5)   f   21   29  p   \n",
       "3           audi      a4    2.0  2008    4  manual(m6)   f   20   31  p   \n",
       "4           audi      a4    2.0  2008    4    auto(av)   f   21   30  p   \n",
       "5           audi      a4    2.8  1999    6    auto(l5)   f   16   26  p   \n",
       "..           ...     ...    ...   ...  ...         ...  ..  ...  ... ..   \n",
       "230   volkswagen  passat    2.0  2008    4    auto(s6)   f   19   28  p   \n",
       "231   volkswagen  passat    2.0  2008    4  manual(m6)   f   21   29  p   \n",
       "232   volkswagen  passat    2.8  1999    6    auto(l5)   f   16   26  p   \n",
       "233   volkswagen  passat    2.8  1999    6  manual(m5)   f   18   26  p   \n",
       "234   volkswagen  passat    3.6  2008    6    auto(s6)   f   17   26  p   \n",
       "\n",
       "    class_type  \n",
       "1      compact  \n",
       "2      compact  \n",
       "3      compact  \n",
       "4      compact  \n",
       "5      compact  \n",
       "..         ...  \n",
       "230    midsize  \n",
       "231    midsize  \n",
       "232    midsize  \n",
       "233    midsize  \n",
       "234    midsize  \n",
       "\n",
       "[234 rows x 11 columns]"
      ]
     },
     "execution_count": 64,
     "metadata": {},
     "output_type": "execute_result"
    }
   ],
   "source": [
    "mpg = data('mpg')\n",
    "mpg = mpg.rename(columns = {'class':'class_type'})\n",
    "mpg"
   ]
  },
  {
   "cell_type": "markdown",
   "metadata": {},
   "source": [
    "# Load the mpg dataset and use it to answer the following questions:\n",
    "\n",
    "Is there a difference in fuel-efficiency in cars from 2008 vs 1999?\n",
    "\n",
    "Are compact cars more fuel-efficient than the average car?\n",
    "\n",
    "Do manual cars get better gas mileage than automatic cars?"
   ]
  },
  {
   "cell_type": "markdown",
   "metadata": {},
   "source": [
    "# 1\n",
    "$H_0$: There is no difference in fuel-efficiency in cars from 2008 vs 1999\n",
    "\n",
    "$H_a$: There is a difference in fuel-efficiency in cars from 2008 vs 1999\n",
    "\n",
    "confidence level: 0.05"
   ]
  },
  {
   "cell_type": "code",
   "execution_count": 65,
   "metadata": {},
   "outputs": [],
   "source": [
    "x1 = mpg[mpg.year == 1999].hwy\n",
    "x2 = mpg[mpg.year == 2008].hwy"
   ]
  },
  {
   "cell_type": "code",
   "execution_count": 66,
   "metadata": {},
   "outputs": [
    {
     "data": {
      "text/plain": [
       "(-0.03286431672888292, 0.9738110448529322)"
      ]
     },
     "execution_count": 66,
     "metadata": {},
     "output_type": "execute_result"
    }
   ],
   "source": [
    "tstat, p = stats.ttest_ind(x1, x2)\n",
    "tstat, p \n",
    "# Since p value 0.97 is much higher than a value 0.05, failed reject the H0,\n",
    "# which means there is no difference between them."
   ]
  },
  {
   "cell_type": "markdown",
   "metadata": {},
   "source": [
    "# 2\n",
    "\n",
    "$H_0$: There is no difference in fuel-efficiency between compact cars and the average car\n",
    "\n",
    "$H_a$: Compact cars are morefuel-efficient than the average car\n",
    "\n",
    "confidence level: 0.05\n"
   ]
  },
  {
   "cell_type": "code",
   "execution_count": 69,
   "metadata": {},
   "outputs": [
    {
     "data": {
      "text/plain": [
       "True"
      ]
     },
     "execution_count": 69,
     "metadata": {},
     "output_type": "execute_result"
    }
   ],
   "source": [
    "x = mpg[mpg.class_type == 'compact'].hwy\n",
    "mu = mpg.hwy.mean()\n",
    "p = stats.ttest_1samp(x, mu)\n",
    "p[1] < 0.05\n",
    "\n",
    "# Since p value is less than a value, reject the null hypothesis, which means there is a statistically significant\n",
    "# diffrence between compact cars and the average cars in regard to fuel-efficient"
   ]
  },
  {
   "cell_type": "markdown",
   "metadata": {},
   "source": [
    "# 3\n",
    "\n",
    "- $H_0$: Manual cars are same as automatic cars in regard to gas mileage \n",
    "- $H_a$: manual cars get better gas mileage than automatic cars\n",
    "- confidence level: 0.05\n"
   ]
  },
  {
   "cell_type": "code",
   "execution_count": 10,
   "metadata": {},
   "outputs": [],
   "source": [
    "auto = mpg.trans.str.contains('auto')\n",
    "manual = mpg.trans.str.contains('manual')\n",
    "x1 = mpg[auto].hwy\n",
    "x2 = mpg[manual].hwy"
   ]
  },
  {
   "cell_type": "code",
   "execution_count": 11,
   "metadata": {},
   "outputs": [
    {
     "data": {
      "text/plain": [
       "(-4.368349972819688, 1.888044765552951e-05)"
      ]
     },
     "execution_count": 11,
     "metadata": {},
     "output_type": "execute_result"
    }
   ],
   "source": [
    "tstat, p = stats.ttest_ind(x1, x2)\n",
    "tstat, p \n",
    "# Since p value is less than a value,  reject the null hypothesis that there\n",
    "# is no  statistically significant difference between manual cars and automatic cars in regard to gas mileage"
   ]
  },
  {
   "cell_type": "code",
   "execution_count": null,
   "metadata": {},
   "outputs": [],
   "source": []
  },
  {
   "cell_type": "markdown",
   "metadata": {},
   "source": [
    "# Correlation\n",
    "\n",
    "> Use the telco_churn data. Does tenure correlate with monthly charges? Total charges? What happens if you control for phone and internet service?\n",
    "\n",
    "- $H_0$: There is no linear relationship between tenure and monthly charges \n",
    "- $H_a$: There is linear relationship between tenure and monthly charges \n",
    "\n"
   ]
  },
  {
   "cell_type": "code",
   "execution_count": 106,
   "metadata": {},
   "outputs": [
    {
     "data": {
      "text/html": [
       "<div>\n",
       "<style scoped>\n",
       "    .dataframe tbody tr th:only-of-type {\n",
       "        vertical-align: middle;\n",
       "    }\n",
       "\n",
       "    .dataframe tbody tr th {\n",
       "        vertical-align: top;\n",
       "    }\n",
       "\n",
       "    .dataframe thead th {\n",
       "        text-align: right;\n",
       "    }\n",
       "</style>\n",
       "<table border=\"1\" class=\"dataframe\">\n",
       "  <thead>\n",
       "    <tr style=\"text-align: right;\">\n",
       "      <th></th>\n",
       "      <th>internet_service_type_id</th>\n",
       "      <th>customer_id</th>\n",
       "      <th>gender</th>\n",
       "      <th>senior_citizen</th>\n",
       "      <th>partner</th>\n",
       "      <th>dependents</th>\n",
       "      <th>tenure</th>\n",
       "      <th>phone_service</th>\n",
       "      <th>multiple_lines</th>\n",
       "      <th>online_security</th>\n",
       "      <th>...</th>\n",
       "      <th>tech_support</th>\n",
       "      <th>streaming_tv</th>\n",
       "      <th>streaming_movies</th>\n",
       "      <th>contract_type_id</th>\n",
       "      <th>paperless_billing</th>\n",
       "      <th>payment_type_id</th>\n",
       "      <th>monthly_charges</th>\n",
       "      <th>total_charges</th>\n",
       "      <th>churn</th>\n",
       "      <th>internet_service_type</th>\n",
       "    </tr>\n",
       "  </thead>\n",
       "  <tbody>\n",
       "    <tr>\n",
       "      <td>0</td>\n",
       "      <td>1</td>\n",
       "      <td>0002-ORFBO</td>\n",
       "      <td>Female</td>\n",
       "      <td>0</td>\n",
       "      <td>Yes</td>\n",
       "      <td>Yes</td>\n",
       "      <td>9</td>\n",
       "      <td>Yes</td>\n",
       "      <td>No</td>\n",
       "      <td>No</td>\n",
       "      <td>...</td>\n",
       "      <td>Yes</td>\n",
       "      <td>Yes</td>\n",
       "      <td>No</td>\n",
       "      <td>2</td>\n",
       "      <td>Yes</td>\n",
       "      <td>2</td>\n",
       "      <td>65.60</td>\n",
       "      <td>593.3</td>\n",
       "      <td>No</td>\n",
       "      <td>DSL</td>\n",
       "    </tr>\n",
       "    <tr>\n",
       "      <td>1</td>\n",
       "      <td>1</td>\n",
       "      <td>0003-MKNFE</td>\n",
       "      <td>Male</td>\n",
       "      <td>0</td>\n",
       "      <td>No</td>\n",
       "      <td>No</td>\n",
       "      <td>9</td>\n",
       "      <td>Yes</td>\n",
       "      <td>Yes</td>\n",
       "      <td>No</td>\n",
       "      <td>...</td>\n",
       "      <td>No</td>\n",
       "      <td>No</td>\n",
       "      <td>Yes</td>\n",
       "      <td>1</td>\n",
       "      <td>No</td>\n",
       "      <td>2</td>\n",
       "      <td>59.90</td>\n",
       "      <td>542.4</td>\n",
       "      <td>No</td>\n",
       "      <td>DSL</td>\n",
       "    </tr>\n",
       "    <tr>\n",
       "      <td>2</td>\n",
       "      <td>1</td>\n",
       "      <td>0013-MHZWF</td>\n",
       "      <td>Female</td>\n",
       "      <td>0</td>\n",
       "      <td>No</td>\n",
       "      <td>Yes</td>\n",
       "      <td>9</td>\n",
       "      <td>Yes</td>\n",
       "      <td>No</td>\n",
       "      <td>No</td>\n",
       "      <td>...</td>\n",
       "      <td>Yes</td>\n",
       "      <td>Yes</td>\n",
       "      <td>Yes</td>\n",
       "      <td>1</td>\n",
       "      <td>Yes</td>\n",
       "      <td>4</td>\n",
       "      <td>69.40</td>\n",
       "      <td>571.45</td>\n",
       "      <td>No</td>\n",
       "      <td>DSL</td>\n",
       "    </tr>\n",
       "    <tr>\n",
       "      <td>3</td>\n",
       "      <td>1</td>\n",
       "      <td>0015-UOCOJ</td>\n",
       "      <td>Female</td>\n",
       "      <td>1</td>\n",
       "      <td>No</td>\n",
       "      <td>No</td>\n",
       "      <td>7</td>\n",
       "      <td>Yes</td>\n",
       "      <td>No</td>\n",
       "      <td>Yes</td>\n",
       "      <td>...</td>\n",
       "      <td>No</td>\n",
       "      <td>No</td>\n",
       "      <td>No</td>\n",
       "      <td>1</td>\n",
       "      <td>Yes</td>\n",
       "      <td>1</td>\n",
       "      <td>48.20</td>\n",
       "      <td>340.35</td>\n",
       "      <td>No</td>\n",
       "      <td>DSL</td>\n",
       "    </tr>\n",
       "    <tr>\n",
       "      <td>4</td>\n",
       "      <td>1</td>\n",
       "      <td>0016-QLJIS</td>\n",
       "      <td>Female</td>\n",
       "      <td>0</td>\n",
       "      <td>Yes</td>\n",
       "      <td>Yes</td>\n",
       "      <td>65</td>\n",
       "      <td>Yes</td>\n",
       "      <td>Yes</td>\n",
       "      <td>Yes</td>\n",
       "      <td>...</td>\n",
       "      <td>Yes</td>\n",
       "      <td>Yes</td>\n",
       "      <td>Yes</td>\n",
       "      <td>3</td>\n",
       "      <td>Yes</td>\n",
       "      <td>2</td>\n",
       "      <td>90.45</td>\n",
       "      <td>5957.9</td>\n",
       "      <td>No</td>\n",
       "      <td>DSL</td>\n",
       "    </tr>\n",
       "    <tr>\n",
       "      <td>...</td>\n",
       "      <td>...</td>\n",
       "      <td>...</td>\n",
       "      <td>...</td>\n",
       "      <td>...</td>\n",
       "      <td>...</td>\n",
       "      <td>...</td>\n",
       "      <td>...</td>\n",
       "      <td>...</td>\n",
       "      <td>...</td>\n",
       "      <td>...</td>\n",
       "      <td>...</td>\n",
       "      <td>...</td>\n",
       "      <td>...</td>\n",
       "      <td>...</td>\n",
       "      <td>...</td>\n",
       "      <td>...</td>\n",
       "      <td>...</td>\n",
       "      <td>...</td>\n",
       "      <td>...</td>\n",
       "      <td>...</td>\n",
       "      <td>...</td>\n",
       "    </tr>\n",
       "    <tr>\n",
       "      <td>7038</td>\n",
       "      <td>3</td>\n",
       "      <td>9970-QBCDA</td>\n",
       "      <td>Female</td>\n",
       "      <td>0</td>\n",
       "      <td>No</td>\n",
       "      <td>No</td>\n",
       "      <td>6</td>\n",
       "      <td>Yes</td>\n",
       "      <td>No</td>\n",
       "      <td>No internet service</td>\n",
       "      <td>...</td>\n",
       "      <td>No internet service</td>\n",
       "      <td>No internet service</td>\n",
       "      <td>No internet service</td>\n",
       "      <td>1</td>\n",
       "      <td>No</td>\n",
       "      <td>4</td>\n",
       "      <td>19.70</td>\n",
       "      <td>129.55</td>\n",
       "      <td>No</td>\n",
       "      <td>None</td>\n",
       "    </tr>\n",
       "    <tr>\n",
       "      <td>7039</td>\n",
       "      <td>3</td>\n",
       "      <td>9972-EWRJS</td>\n",
       "      <td>Female</td>\n",
       "      <td>0</td>\n",
       "      <td>Yes</td>\n",
       "      <td>Yes</td>\n",
       "      <td>67</td>\n",
       "      <td>Yes</td>\n",
       "      <td>No</td>\n",
       "      <td>No internet service</td>\n",
       "      <td>...</td>\n",
       "      <td>No internet service</td>\n",
       "      <td>No internet service</td>\n",
       "      <td>No internet service</td>\n",
       "      <td>3</td>\n",
       "      <td>Yes</td>\n",
       "      <td>3</td>\n",
       "      <td>19.25</td>\n",
       "      <td>1372.9</td>\n",
       "      <td>No</td>\n",
       "      <td>None</td>\n",
       "    </tr>\n",
       "    <tr>\n",
       "      <td>7040</td>\n",
       "      <td>3</td>\n",
       "      <td>9975-GPKZU</td>\n",
       "      <td>Male</td>\n",
       "      <td>0</td>\n",
       "      <td>Yes</td>\n",
       "      <td>Yes</td>\n",
       "      <td>46</td>\n",
       "      <td>Yes</td>\n",
       "      <td>No</td>\n",
       "      <td>No internet service</td>\n",
       "      <td>...</td>\n",
       "      <td>No internet service</td>\n",
       "      <td>No internet service</td>\n",
       "      <td>No internet service</td>\n",
       "      <td>3</td>\n",
       "      <td>No</td>\n",
       "      <td>4</td>\n",
       "      <td>19.75</td>\n",
       "      <td>856.5</td>\n",
       "      <td>No</td>\n",
       "      <td>None</td>\n",
       "    </tr>\n",
       "    <tr>\n",
       "      <td>7041</td>\n",
       "      <td>3</td>\n",
       "      <td>9975-SKRNR</td>\n",
       "      <td>Male</td>\n",
       "      <td>0</td>\n",
       "      <td>No</td>\n",
       "      <td>No</td>\n",
       "      <td>1</td>\n",
       "      <td>Yes</td>\n",
       "      <td>No</td>\n",
       "      <td>No internet service</td>\n",
       "      <td>...</td>\n",
       "      <td>No internet service</td>\n",
       "      <td>No internet service</td>\n",
       "      <td>No internet service</td>\n",
       "      <td>1</td>\n",
       "      <td>No</td>\n",
       "      <td>2</td>\n",
       "      <td>18.90</td>\n",
       "      <td>18.9</td>\n",
       "      <td>No</td>\n",
       "      <td>None</td>\n",
       "    </tr>\n",
       "    <tr>\n",
       "      <td>7042</td>\n",
       "      <td>3</td>\n",
       "      <td>9986-BONCE</td>\n",
       "      <td>Female</td>\n",
       "      <td>0</td>\n",
       "      <td>No</td>\n",
       "      <td>No</td>\n",
       "      <td>4</td>\n",
       "      <td>Yes</td>\n",
       "      <td>No</td>\n",
       "      <td>No internet service</td>\n",
       "      <td>...</td>\n",
       "      <td>No internet service</td>\n",
       "      <td>No internet service</td>\n",
       "      <td>No internet service</td>\n",
       "      <td>1</td>\n",
       "      <td>No</td>\n",
       "      <td>3</td>\n",
       "      <td>20.95</td>\n",
       "      <td>85.5</td>\n",
       "      <td>Yes</td>\n",
       "      <td>None</td>\n",
       "    </tr>\n",
       "  </tbody>\n",
       "</table>\n",
       "<p>7043 rows × 22 columns</p>\n",
       "</div>"
      ],
      "text/plain": [
       "      internet_service_type_id customer_id  gender  senior_citizen partner  \\\n",
       "0                            1  0002-ORFBO  Female               0     Yes   \n",
       "1                            1  0003-MKNFE    Male               0      No   \n",
       "2                            1  0013-MHZWF  Female               0      No   \n",
       "3                            1  0015-UOCOJ  Female               1      No   \n",
       "4                            1  0016-QLJIS  Female               0     Yes   \n",
       "...                        ...         ...     ...             ...     ...   \n",
       "7038                         3  9970-QBCDA  Female               0      No   \n",
       "7039                         3  9972-EWRJS  Female               0     Yes   \n",
       "7040                         3  9975-GPKZU    Male               0     Yes   \n",
       "7041                         3  9975-SKRNR    Male               0      No   \n",
       "7042                         3  9986-BONCE  Female               0      No   \n",
       "\n",
       "     dependents  tenure phone_service multiple_lines      online_security  \\\n",
       "0           Yes       9           Yes             No                   No   \n",
       "1            No       9           Yes            Yes                   No   \n",
       "2           Yes       9           Yes             No                   No   \n",
       "3            No       7           Yes             No                  Yes   \n",
       "4           Yes      65           Yes            Yes                  Yes   \n",
       "...         ...     ...           ...            ...                  ...   \n",
       "7038         No       6           Yes             No  No internet service   \n",
       "7039        Yes      67           Yes             No  No internet service   \n",
       "7040        Yes      46           Yes             No  No internet service   \n",
       "7041         No       1           Yes             No  No internet service   \n",
       "7042         No       4           Yes             No  No internet service   \n",
       "\n",
       "      ...         tech_support         streaming_tv     streaming_movies  \\\n",
       "0     ...                  Yes                  Yes                   No   \n",
       "1     ...                   No                   No                  Yes   \n",
       "2     ...                  Yes                  Yes                  Yes   \n",
       "3     ...                   No                   No                   No   \n",
       "4     ...                  Yes                  Yes                  Yes   \n",
       "...   ...                  ...                  ...                  ...   \n",
       "7038  ...  No internet service  No internet service  No internet service   \n",
       "7039  ...  No internet service  No internet service  No internet service   \n",
       "7040  ...  No internet service  No internet service  No internet service   \n",
       "7041  ...  No internet service  No internet service  No internet service   \n",
       "7042  ...  No internet service  No internet service  No internet service   \n",
       "\n",
       "     contract_type_id paperless_billing  payment_type_id monthly_charges  \\\n",
       "0                   2               Yes                2           65.60   \n",
       "1                   1                No                2           59.90   \n",
       "2                   1               Yes                4           69.40   \n",
       "3                   1               Yes                1           48.20   \n",
       "4                   3               Yes                2           90.45   \n",
       "...               ...               ...              ...             ...   \n",
       "7038                1                No                4           19.70   \n",
       "7039                3               Yes                3           19.25   \n",
       "7040                3                No                4           19.75   \n",
       "7041                1                No                2           18.90   \n",
       "7042                1                No                3           20.95   \n",
       "\n",
       "      total_charges  churn internet_service_type  \n",
       "0             593.3     No                   DSL  \n",
       "1             542.4     No                   DSL  \n",
       "2            571.45     No                   DSL  \n",
       "3            340.35     No                   DSL  \n",
       "4            5957.9     No                   DSL  \n",
       "...             ...    ...                   ...  \n",
       "7038         129.55     No                  None  \n",
       "7039         1372.9     No                  None  \n",
       "7040          856.5     No                  None  \n",
       "7041           18.9     No                  None  \n",
       "7042           85.5    Yes                  None  \n",
       "\n",
       "[7043 rows x 22 columns]"
      ]
     },
     "execution_count": 106,
     "metadata": {},
     "output_type": "execute_result"
    }
   ],
   "source": [
    "from env import get_db_url\n",
    "query = \"\"\"\n",
    "    select * from customers\n",
    "    join internet_service_types using(internet_service_type_id)\n",
    "    \"\"\"\n",
    "url = get_db_url(\"telco_churn\")\n",
    "customers = pd.read_sql(query, url)\n",
    "customers"
   ]
  },
  {
   "cell_type": "code",
   "execution_count": 107,
   "metadata": {},
   "outputs": [],
   "source": [
    "x = customers.tenure\n",
    "y = customers.monthly_charges"
   ]
  },
  {
   "cell_type": "code",
   "execution_count": 108,
   "metadata": {},
   "outputs": [
    {
     "name": "stdout",
     "output_type": "stream",
     "text": [
      "r= 0.24789985628615002\n",
      "p= 4.0940449915016345e-99\n"
     ]
    }
   ],
   "source": [
    "r, p = stats.pearsonr(x, y)\n",
    "print('r=', r)\n",
    "print('p=', p)"
   ]
  },
  {
   "cell_type": "code",
   "execution_count": 109,
   "metadata": {},
   "outputs": [
    {
     "data": {
      "text/plain": [
       "<matplotlib.collections.PathCollection at 0x1a417caed0>"
      ]
     },
     "execution_count": 109,
     "metadata": {},
     "output_type": "execute_result"
    },
    {
     "data": {
      "image/png": "[encoded data removed]",
      "text/plain": [
       "<Figure size 432x288 with 1 Axes>"
      ]
     },
     "metadata": {
      "needs_background": "light"
     },
     "output_type": "display_data"
    }
   ],
   "source": [
    "plt.scatter(x, y)"
   ]
  },
  {
   "cell_type": "code",
   "execution_count": 110,
   "metadata": {},
   "outputs": [
    {
     "data": {
      "text/html": [
       "<div>\n",
       "<style scoped>\n",
       "    .dataframe tbody tr th:only-of-type {\n",
       "        vertical-align: middle;\n",
       "    }\n",
       "\n",
       "    .dataframe tbody tr th {\n",
       "        vertical-align: top;\n",
       "    }\n",
       "\n",
       "    .dataframe thead th {\n",
       "        text-align: right;\n",
       "    }\n",
       "</style>\n",
       "<table border=\"1\" class=\"dataframe\">\n",
       "  <thead>\n",
       "    <tr style=\"text-align: right;\">\n",
       "      <th></th>\n",
       "      <th>internet_service_type_id</th>\n",
       "      <th>customer_id</th>\n",
       "      <th>gender</th>\n",
       "      <th>senior_citizen</th>\n",
       "      <th>partner</th>\n",
       "      <th>dependents</th>\n",
       "      <th>tenure</th>\n",
       "      <th>phone_service</th>\n",
       "      <th>multiple_lines</th>\n",
       "      <th>online_security</th>\n",
       "      <th>...</th>\n",
       "      <th>tech_support</th>\n",
       "      <th>streaming_tv</th>\n",
       "      <th>streaming_movies</th>\n",
       "      <th>contract_type_id</th>\n",
       "      <th>paperless_billing</th>\n",
       "      <th>payment_type_id</th>\n",
       "      <th>monthly_charges</th>\n",
       "      <th>total_charges</th>\n",
       "      <th>churn</th>\n",
       "      <th>internet_service_type</th>\n",
       "    </tr>\n",
       "  </thead>\n",
       "  <tbody>\n",
       "    <tr>\n",
       "      <td>0</td>\n",
       "      <td>1</td>\n",
       "      <td>0002-ORFBO</td>\n",
       "      <td>Female</td>\n",
       "      <td>0</td>\n",
       "      <td>Yes</td>\n",
       "      <td>Yes</td>\n",
       "      <td>9</td>\n",
       "      <td>Yes</td>\n",
       "      <td>No</td>\n",
       "      <td>No</td>\n",
       "      <td>...</td>\n",
       "      <td>Yes</td>\n",
       "      <td>Yes</td>\n",
       "      <td>No</td>\n",
       "      <td>2</td>\n",
       "      <td>Yes</td>\n",
       "      <td>2</td>\n",
       "      <td>65.60</td>\n",
       "      <td>593.30</td>\n",
       "      <td>No</td>\n",
       "      <td>DSL</td>\n",
       "    </tr>\n",
       "    <tr>\n",
       "      <td>1</td>\n",
       "      <td>1</td>\n",
       "      <td>0003-MKNFE</td>\n",
       "      <td>Male</td>\n",
       "      <td>0</td>\n",
       "      <td>No</td>\n",
       "      <td>No</td>\n",
       "      <td>9</td>\n",
       "      <td>Yes</td>\n",
       "      <td>Yes</td>\n",
       "      <td>No</td>\n",
       "      <td>...</td>\n",
       "      <td>No</td>\n",
       "      <td>No</td>\n",
       "      <td>Yes</td>\n",
       "      <td>1</td>\n",
       "      <td>No</td>\n",
       "      <td>2</td>\n",
       "      <td>59.90</td>\n",
       "      <td>542.40</td>\n",
       "      <td>No</td>\n",
       "      <td>DSL</td>\n",
       "    </tr>\n",
       "    <tr>\n",
       "      <td>2</td>\n",
       "      <td>1</td>\n",
       "      <td>0013-MHZWF</td>\n",
       "      <td>Female</td>\n",
       "      <td>0</td>\n",
       "      <td>No</td>\n",
       "      <td>Yes</td>\n",
       "      <td>9</td>\n",
       "      <td>Yes</td>\n",
       "      <td>No</td>\n",
       "      <td>No</td>\n",
       "      <td>...</td>\n",
       "      <td>Yes</td>\n",
       "      <td>Yes</td>\n",
       "      <td>Yes</td>\n",
       "      <td>1</td>\n",
       "      <td>Yes</td>\n",
       "      <td>4</td>\n",
       "      <td>69.40</td>\n",
       "      <td>571.45</td>\n",
       "      <td>No</td>\n",
       "      <td>DSL</td>\n",
       "    </tr>\n",
       "    <tr>\n",
       "      <td>3</td>\n",
       "      <td>1</td>\n",
       "      <td>0015-UOCOJ</td>\n",
       "      <td>Female</td>\n",
       "      <td>1</td>\n",
       "      <td>No</td>\n",
       "      <td>No</td>\n",
       "      <td>7</td>\n",
       "      <td>Yes</td>\n",
       "      <td>No</td>\n",
       "      <td>Yes</td>\n",
       "      <td>...</td>\n",
       "      <td>No</td>\n",
       "      <td>No</td>\n",
       "      <td>No</td>\n",
       "      <td>1</td>\n",
       "      <td>Yes</td>\n",
       "      <td>1</td>\n",
       "      <td>48.20</td>\n",
       "      <td>340.35</td>\n",
       "      <td>No</td>\n",
       "      <td>DSL</td>\n",
       "    </tr>\n",
       "    <tr>\n",
       "      <td>4</td>\n",
       "      <td>1</td>\n",
       "      <td>0016-QLJIS</td>\n",
       "      <td>Female</td>\n",
       "      <td>0</td>\n",
       "      <td>Yes</td>\n",
       "      <td>Yes</td>\n",
       "      <td>65</td>\n",
       "      <td>Yes</td>\n",
       "      <td>Yes</td>\n",
       "      <td>Yes</td>\n",
       "      <td>...</td>\n",
       "      <td>Yes</td>\n",
       "      <td>Yes</td>\n",
       "      <td>Yes</td>\n",
       "      <td>3</td>\n",
       "      <td>Yes</td>\n",
       "      <td>2</td>\n",
       "      <td>90.45</td>\n",
       "      <td>5957.90</td>\n",
       "      <td>No</td>\n",
       "      <td>DSL</td>\n",
       "    </tr>\n",
       "  </tbody>\n",
       "</table>\n",
       "<p>5 rows × 22 columns</p>\n",
       "</div>"
      ],
      "text/plain": [
       "   internet_service_type_id customer_id  gender  senior_citizen partner  \\\n",
       "0                         1  0002-ORFBO  Female               0     Yes   \n",
       "1                         1  0003-MKNFE    Male               0      No   \n",
       "2                         1  0013-MHZWF  Female               0      No   \n",
       "3                         1  0015-UOCOJ  Female               1      No   \n",
       "4                         1  0016-QLJIS  Female               0     Yes   \n",
       "\n",
       "  dependents  tenure phone_service multiple_lines online_security  ...  \\\n",
       "0        Yes       9           Yes             No              No  ...   \n",
       "1         No       9           Yes            Yes              No  ...   \n",
       "2        Yes       9           Yes             No              No  ...   \n",
       "3         No       7           Yes             No             Yes  ...   \n",
       "4        Yes      65           Yes            Yes             Yes  ...   \n",
       "\n",
       "  tech_support streaming_tv streaming_movies contract_type_id  \\\n",
       "0          Yes          Yes               No                2   \n",
       "1           No           No              Yes                1   \n",
       "2          Yes          Yes              Yes                1   \n",
       "3           No           No               No                1   \n",
       "4          Yes          Yes              Yes                3   \n",
       "\n",
       "  paperless_billing  payment_type_id monthly_charges  total_charges  churn  \\\n",
       "0               Yes                2           65.60         593.30     No   \n",
       "1                No                2           59.90         542.40     No   \n",
       "2               Yes                4           69.40         571.45     No   \n",
       "3               Yes                1           48.20         340.35     No   \n",
       "4               Yes                2           90.45        5957.90     No   \n",
       "\n",
       "   internet_service_type  \n",
       "0                    DSL  \n",
       "1                    DSL  \n",
       "2                    DSL  \n",
       "3                    DSL  \n",
       "4                    DSL  \n",
       "\n",
       "[5 rows x 22 columns]"
      ]
     },
     "execution_count": 110,
     "metadata": {},
     "output_type": "execute_result"
    }
   ],
   "source": [
    "customers.total_charges = customers.total_charges.replace(' ', np.nan).astype(float)\n",
    "customers = customers.dropna()\n",
    "customers.head()"
   ]
  },
  {
   "cell_type": "code",
   "execution_count": 111,
   "metadata": {},
   "outputs": [],
   "source": [
    "x = customers.tenure\n",
    "y = customers.total_charges"
   ]
  },
  {
   "cell_type": "code",
   "execution_count": 112,
   "metadata": {},
   "outputs": [
    {
     "name": "stdout",
     "output_type": "stream",
     "text": [
      "r= 0.825880460933202\n",
      "p= 0.0\n"
     ]
    }
   ],
   "source": [
    "r, p = stats.pearsonr(x, y)\n",
    "print('r=', r)\n",
    "print('p=', p)"
   ]
  },
  {
   "cell_type": "code",
   "execution_count": 113,
   "metadata": {
    "scrolled": false
   },
   "outputs": [
    {
     "data": {
      "text/plain": [
       "<matplotlib.collections.PathCollection at 0x1a433fc290>"
      ]
     },
     "execution_count": 113,
     "metadata": {},
     "output_type": "execute_result"
    },
    {
     "data": {
      "image/png": "[encoded data removed]",
      "text/plain": [
       "<Figure size 432x288 with 1 Axes>"
      ]
     },
     "metadata": {
      "needs_background": "light"
     },
     "output_type": "display_data"
    }
   ],
   "source": [
    "plt.scatter(x, y)"
   ]
  },
  {
   "cell_type": "code",
   "execution_count": 116,
   "metadata": {},
   "outputs": [],
   "source": [
    "# phone customers with no internet service\n",
    "phone_no_internet = customers[(customers.phone_service == \"Yes\") & (customers.internet_service_type == \"None\")]\n",
    "phone_no_internet = phone_no_internet[[\"tenure\", \"monthly_charges\", \"total_charges\"]]\n"
   ]
  },
  {
   "cell_type": "code",
   "execution_count": 118,
   "metadata": {},
   "outputs": [
    {
     "data": {
      "text/plain": [
       "(0.34618773548574655, 4.896604599951957e-44)"
      ]
     },
     "execution_count": 118,
     "metadata": {},
     "output_type": "execute_result"
    }
   ],
   "source": [
    "stats.pearsonr(phone_no_internet.tenure, phone_no_internet.monthly_charges)"
   ]
  },
  {
   "cell_type": "code",
   "execution_count": 119,
   "metadata": {},
   "outputs": [
    {
     "data": {
      "text/plain": [
       "(0.9814648859044287, 0.0)"
      ]
     },
     "execution_count": 119,
     "metadata": {},
     "output_type": "execute_result"
    }
   ],
   "source": [
    "stats.pearsonr(phone_no_internet.tenure, phone_no_internet.total_charges)"
   ]
  },
  {
   "cell_type": "code",
   "execution_count": 120,
   "metadata": {},
   "outputs": [
    {
     "data": {
      "text/plain": [
       "(0.48448535834260964, 2.767387829742139e-90)"
      ]
     },
     "execution_count": 120,
     "metadata": {},
     "output_type": "execute_result"
    }
   ],
   "source": [
    "stats.pearsonr(phone_no_internet.monthly_charges, phone_no_internet.total_charges)"
   ]
  },
  {
   "cell_type": "code",
   "execution_count": 121,
   "metadata": {},
   "outputs": [
    {
     "data": {
      "image/png": "[encoded data removed]",
      "text/plain": [
       "<Figure size 432x288 with 1 Axes>"
      ]
     },
     "metadata": {
      "needs_background": "light"
     },
     "output_type": "display_data"
    }
   ],
   "source": [
    "plt.suptitle(\"Phone Customers with No Internet\")\n",
    "plt.title(\"Relationship of Tenure to Total Charges\")\n",
    "plt.xlabel(\"Tenure in months\")\n",
    "plt.ylabel(\"Total Charges in $\")\n",
    "plt.scatter(phone_no_internet.tenure, phone_no_internet.total_charges)\n",
    "plt.show()"
   ]
  },
  {
   "cell_type": "code",
   "execution_count": 122,
   "metadata": {},
   "outputs": [],
   "source": [
    "# Customers with Phone and Fiber Internet\n",
    "phone_fiber = customers[(customers.phone_service == \"Yes\") & (customers.internet_service_type == \"Fiber optic\")]\n",
    "phone_fiber = phone_fiber[[\"tenure\", \"monthly_charges\", \"total_charges\"]]"
   ]
  },
  {
   "cell_type": "code",
   "execution_count": 123,
   "metadata": {},
   "outputs": [
    {
     "data": {
      "text/plain": [
       "(0.9853093528070602, 0.0)"
      ]
     },
     "execution_count": 123,
     "metadata": {},
     "output_type": "execute_result"
    }
   ],
   "source": [
    "stats.pearsonr(phone_fiber.tenure, phone_fiber.total_charges)"
   ]
  },
  {
   "cell_type": "code",
   "execution_count": 124,
   "metadata": {},
   "outputs": [
    {
     "data": {
      "text/plain": [
       "(0.6246206176175583, 0.0)"
      ]
     },
     "execution_count": 124,
     "metadata": {},
     "output_type": "execute_result"
    }
   ],
   "source": [
    "stats.pearsonr(phone_fiber.tenure, phone_fiber.monthly_charges)"
   ]
  },
  {
   "cell_type": "code",
   "execution_count": 125,
   "metadata": {},
   "outputs": [
    {
     "data": {
      "text/plain": [
       "(0.7135248828873246, 0.0)"
      ]
     },
     "execution_count": 125,
     "metadata": {},
     "output_type": "execute_result"
    }
   ],
   "source": [
    "stats.pearsonr(phone_fiber.monthly_charges, phone_fiber.total_charges)"
   ]
  },
  {
   "cell_type": "code",
   "execution_count": 126,
   "metadata": {
    "scrolled": true
   },
   "outputs": [
    {
     "data": {
      "image/png": "[encoded data removed]",
      "text/plain": [
       "<Figure size 432x288 with 1 Axes>"
      ]
     },
     "metadata": {
      "needs_background": "light"
     },
     "output_type": "display_data"
    }
   ],
   "source": [
    "plt.suptitle(\"Fiber Customers with Phone\")\n",
    "plt.title(\"Relationship of Tenure to Total Charges\")\n",
    "plt.xlabel(\"Tenure in months\")\n",
    "plt.ylabel(\"Total Charges in $\")\n",
    "plt.scatter(phone_fiber.tenure, phone_fiber.total_charges)\n",
    "plt.show()"
   ]
  },
  {
   "cell_type": "code",
   "execution_count": 127,
   "metadata": {},
   "outputs": [],
   "source": [
    "phone_dsl = customers[(customers.phone_service == \"Yes\") & (customers.internet_service_type == \"DSL\")]\n",
    "phone_dsl = phone_fiber[[\"tenure\", \"monthly_charges\", \"total_charges\"]]"
   ]
  },
  {
   "cell_type": "code",
   "execution_count": 128,
   "metadata": {},
   "outputs": [
    {
     "data": {
      "text/plain": [
       "(0.6246206176175583, 0.0)"
      ]
     },
     "execution_count": 128,
     "metadata": {},
     "output_type": "execute_result"
    }
   ],
   "source": [
    "stats.pearsonr(phone_dsl.tenure, phone_dsl.monthly_charges)"
   ]
  },
  {
   "cell_type": "code",
   "execution_count": 129,
   "metadata": {},
   "outputs": [
    {
     "data": {
      "text/plain": [
       "(0.7135248828873246, 0.0)"
      ]
     },
     "execution_count": 129,
     "metadata": {},
     "output_type": "execute_result"
    }
   ],
   "source": [
    "stats.pearsonr(phone_dsl.monthly_charges, phone_dsl.total_charges)"
   ]
  },
  {
   "cell_type": "code",
   "execution_count": 130,
   "metadata": {},
   "outputs": [
    {
     "data": {
      "text/plain": [
       "(0.9853093528070602, 0.0)"
      ]
     },
     "execution_count": 130,
     "metadata": {},
     "output_type": "execute_result"
    }
   ],
   "source": [
    "stats.pearsonr(phone_dsl.tenure, phone_dsl.total_charges)"
   ]
  },
  {
   "cell_type": "code",
   "execution_count": 131,
   "metadata": {},
   "outputs": [
    {
     "data": {
      "image/png": "[encoded data removed]",
      "text/plain": [
       "<Figure size 432x288 with 1 Axes>"
      ]
     },
     "metadata": {
      "needs_background": "light"
     },
     "output_type": "display_data"
    }
   ],
   "source": [
    "plt.suptitle(\"DSL Customers with Phone\")\n",
    "plt.title(\"Relationship of Tenure to Total Charges\")\n",
    "\n",
    "plt.xlabel(\"Tenure in months\")\n",
    "plt.ylabel(\"Total Charges in $\")\n",
    "plt.scatter(phone_dsl.tenure, phone_dsl.total_charges)\n",
    "plt.show()"
   ]
  },
  {
   "cell_type": "code",
   "execution_count": 136,
   "metadata": {
    "scrolled": true
   },
   "outputs": [
    {
     "data": {
      "text/html": [
       "<div>\n",
       "<style scoped>\n",
       "    .dataframe tbody tr th:only-of-type {\n",
       "        vertical-align: middle;\n",
       "    }\n",
       "\n",
       "    .dataframe tbody tr th {\n",
       "        vertical-align: top;\n",
       "    }\n",
       "\n",
       "    .dataframe thead th {\n",
       "        text-align: right;\n",
       "    }\n",
       "</style>\n",
       "<table border=\"1\" class=\"dataframe\">\n",
       "  <thead>\n",
       "    <tr style=\"text-align: right;\">\n",
       "      <th></th>\n",
       "      <th>emp_no</th>\n",
       "      <th>salary</th>\n",
       "      <th>days</th>\n",
       "    </tr>\n",
       "  </thead>\n",
       "  <tbody>\n",
       "    <tr>\n",
       "      <td>0</td>\n",
       "      <td>10001</td>\n",
       "      <td>88958</td>\n",
       "      <td>12330</td>\n",
       "    </tr>\n",
       "    <tr>\n",
       "      <td>1</td>\n",
       "      <td>10002</td>\n",
       "      <td>72527</td>\n",
       "      <td>12547</td>\n",
       "    </tr>\n",
       "    <tr>\n",
       "      <td>2</td>\n",
       "      <td>10003</td>\n",
       "      <td>43311</td>\n",
       "      <td>12267</td>\n",
       "    </tr>\n",
       "    <tr>\n",
       "      <td>3</td>\n",
       "      <td>10004</td>\n",
       "      <td>74057</td>\n",
       "      <td>12172</td>\n",
       "    </tr>\n",
       "    <tr>\n",
       "      <td>4</td>\n",
       "      <td>10005</td>\n",
       "      <td>94692</td>\n",
       "      <td>11156</td>\n",
       "    </tr>\n",
       "  </tbody>\n",
       "</table>\n",
       "</div>"
      ],
      "text/plain": [
       "   emp_no  salary   days\n",
       "0   10001   88958  12330\n",
       "1   10002   72527  12547\n",
       "2   10003   43311  12267\n",
       "3   10004   74057  12172\n",
       "4   10005   94692  11156"
      ]
     },
     "execution_count": 136,
     "metadata": {},
     "output_type": "execute_result"
    }
   ],
   "source": [
    "from env import get_db_url\n",
    "query = \"\"\"\n",
    "select emp_no, salary, datediff(curdate(), hire_date) as \"days\"\n",
    "from salaries\n",
    "join employees using(emp_no)\n",
    "where to_date > curdate()\n",
    "\"\"\"\n",
    "url = get_db_url(\"employees\")\n",
    "salaries = pd.read_sql(query, url)\n",
    "salaries.head()"
   ]
  },
  {
   "cell_type": "markdown",
   "metadata": {},
   "source": [
    "$H_0$: There is no linear relationship between salary and employee tenure\n",
    "\n",
    "$H_a$: there is a linear relationship"
   ]
  },
  {
   "cell_type": "code",
   "execution_count": 135,
   "metadata": {},
   "outputs": [],
   "source": [
    "alpha = .01 # is 1 - a 99% confidence level"
   ]
  },
  {
   "cell_type": "code",
   "execution_count": 139,
   "metadata": {},
   "outputs": [
    {
     "data": {
      "text/plain": [
       "(0.30646256131860783, 0.0)"
      ]
     },
     "execution_count": 139,
     "metadata": {},
     "output_type": "execute_result"
    }
   ],
   "source": [
    "r, p = stats.pearsonr(salaries.salary, salaries.days)\n",
    "r, p"
   ]
  },
  {
   "cell_type": "code",
   "execution_count": 141,
   "metadata": {},
   "outputs": [
    {
     "name": "stdout",
     "output_type": "stream",
     "text": [
      "Reject the null hypothesis.\n"
     ]
    }
   ],
   "source": [
    "if p < alpha:\n",
    "    print(\"Reject the null hypothesis.\")\n",
    "else:\n",
    "    print(\"We fail to reject the null hypothesis\")"
   ]
  },
  {
   "cell_type": "code",
   "execution_count": null,
   "metadata": {},
   "outputs": [],
   "source": [
    "query = '''\n",
    "SELECT\n",
    "    DATEDIFF(end_date, start_date) / 365.25 AS tenure,\n",
    "    salary\n",
    "FROM (\n",
    "    SELECT\n",
    "        e.emp_no,\n",
    "        e.hire_date AS start_date,\n",
    "        MAX(s.salary) AS salary,\n",
    "        IF(\n",
    "            de.to_date = '9999-01-01',\n",
    "            (SELECT MAX(hire_date) FROM employees),\n",
    "            de.to_date\n",
    "        ) as end_date\n",
    "    FROM employees e\n",
    "    JOIN dept_emp de USING (emp_no)\n",
    "    JOIN salaries s USING (emp_no)\n",
    "    GROUP BY e.emp_no, start_date, end_date\n",
    ") a\n",
    "'''\n",
    "\n",
    "employees = pd.read_sql(query, get_db_url('employees'))\n",
    "employees"
   ]
  },
  {
   "cell_type": "code",
   "execution_count": null,
   "metadata": {},
   "outputs": [],
   "source": [
    "stats.pearsonr(employees.tenure, employees.salary)"
   ]
  },
  {
   "cell_type": "code",
   "execution_count": null,
   "metadata": {},
   "outputs": [],
   "source": [
    "plt.scatter(employees.tenure, employees.salary)"
   ]
  },
  {
   "cell_type": "code",
   "execution_count": 72,
   "metadata": {},
   "outputs": [
    {
     "ename": "NameError",
     "evalue": "name 'datetime' is not defined",
     "output_type": "error",
     "traceback": [
      "\u001b[0;31m---------------------------------------------------------------------------\u001b[0m",
      "\u001b[0;31mNameError\u001b[0m                                 Traceback (most recent call last)",
      "\u001b[0;32m<ipython-input-72-8f13b500eeb3>\u001b[0m in \u001b[0;36m<module>\u001b[0;34m\u001b[0m\n\u001b[0;32m----> 1\u001b[0;31m \u001b[0mnow\u001b[0m \u001b[0;34m=\u001b[0m \u001b[0mdatetime\u001b[0m\u001b[0;34m.\u001b[0m\u001b[0mdatetime\u001b[0m\u001b[0;34m.\u001b[0m\u001b[0mnow\u001b[0m\u001b[0;34m(\u001b[0m\u001b[0;34m)\u001b[0m\u001b[0;34m\u001b[0m\u001b[0;34m\u001b[0m\u001b[0m\n\u001b[0m\u001b[1;32m      2\u001b[0m \u001b[0mnow\u001b[0m\u001b[0;34m\u001b[0m\u001b[0;34m\u001b[0m\u001b[0m\n",
      "\u001b[0;31mNameError\u001b[0m: name 'datetime' is not defined"
     ]
    }
   ],
   "source": [
    "now = datetime.datetime.now()\n",
    "now"
   ]
  },
  {
   "cell_type": "markdown",
   "metadata": {},
   "source": [
    "# Exercise 1\n",
    "\n",
    "$H_0$:  Using a macbook and being a codeup student are independent of each other.\n",
    "\n",
    "$H_a$:  Using a macbook and being a codeup student are dependent of each other"
   ]
  },
  {
   "cell_type": "code",
   "execution_count": 26,
   "metadata": {},
   "outputs": [
    {
     "data": {
      "text/html": [
       "<div>\n",
       "<style scoped>\n",
       "    .dataframe tbody tr th:only-of-type {\n",
       "        vertical-align: middle;\n",
       "    }\n",
       "\n",
       "    .dataframe tbody tr th {\n",
       "        vertical-align: top;\n",
       "    }\n",
       "\n",
       "    .dataframe thead th {\n",
       "        text-align: right;\n",
       "    }\n",
       "</style>\n",
       "<table border=\"1\" class=\"dataframe\">\n",
       "  <thead>\n",
       "    <tr style=\"text-align: right;\">\n",
       "      <th></th>\n",
       "      <th>Codeup Student</th>\n",
       "      <th>Not Codeup Student</th>\n",
       "    </tr>\n",
       "  </thead>\n",
       "  <tbody>\n",
       "    <tr>\n",
       "      <td>Uses a Macbook</td>\n",
       "      <td>49</td>\n",
       "      <td>20</td>\n",
       "    </tr>\n",
       "    <tr>\n",
       "      <td>Doesn't Use A Macbook</td>\n",
       "      <td>1</td>\n",
       "      <td>30</td>\n",
       "    </tr>\n",
       "  </tbody>\n",
       "</table>\n",
       "</div>"
      ],
      "text/plain": [
       "                       Codeup Student  Not Codeup Student\n",
       "Uses a Macbook                     49                  20\n",
       "Doesn't Use A Macbook               1                  30"
      ]
     },
     "execution_count": 26,
     "metadata": {},
     "output_type": "execute_result"
    }
   ],
   "source": [
    "index = ['Uses a Macbook', \"Doesn't Use A Macbook\"]\n",
    "columns = ['Codeup Student', 'Not Codeup Student']\n",
    "\n",
    "observed = pd.DataFrame([[49, 20], [1, 30]], index=index, columns=columns)\n",
    "n = observed.values.sum()\n",
    "observed"
   ]
  },
  {
   "cell_type": "code",
   "execution_count": 27,
   "metadata": {},
   "outputs": [
    {
     "name": "stdout",
     "output_type": "stream",
     "text": [
      "Observed\n",
      "\n",
      "[[49 20]\n",
      " [ 1 30]]\n",
      "---\n",
      "Expected\n",
      "\n",
      "[[34.5 34.5]\n",
      " [15.5 15.5]]\n",
      "---\n",
      "\n",
      "chi^2 = 36.6526\n",
      "p     = 0.0000\n"
     ]
    }
   ],
   "source": [
    "chi2, p, degf, expected = stats.chi2_contingency(observed)\n",
    "\n",
    "print('Observed\\n')\n",
    "print(observed.values)\n",
    "print('---\\nExpected\\n')\n",
    "print(expected)\n",
    "print('---\\n')\n",
    "print(f'chi^2 = {chi2:.4f}')\n",
    "print(f'p     = {p:.4f}')"
   ]
  },
  {
   "cell_type": "markdown",
   "metadata": {},
   "source": [
    "# Exercise 1\n",
    "\n",
    "$H_0$:   Cylinder type and transmission type are independent of each other.\n",
    "\n",
    "$H_a$:   Cylinder type and transmission type are dependent of each other."
   ]
  },
  {
   "cell_type": "code",
   "execution_count": 30,
   "metadata": {},
   "outputs": [
    {
     "data": {
      "text/html": [
       "<div>\n",
       "<style scoped>\n",
       "    .dataframe tbody tr th:only-of-type {\n",
       "        vertical-align: middle;\n",
       "    }\n",
       "\n",
       "    .dataframe tbody tr th {\n",
       "        vertical-align: top;\n",
       "    }\n",
       "\n",
       "    .dataframe thead th {\n",
       "        text-align: right;\n",
       "    }\n",
       "</style>\n",
       "<table border=\"1\" class=\"dataframe\">\n",
       "  <thead>\n",
       "    <tr style=\"text-align: right;\">\n",
       "      <th></th>\n",
       "      <th>manufacturer</th>\n",
       "      <th>model</th>\n",
       "      <th>displ</th>\n",
       "      <th>year</th>\n",
       "      <th>cyl</th>\n",
       "      <th>trans</th>\n",
       "      <th>drv</th>\n",
       "      <th>cty</th>\n",
       "      <th>hwy</th>\n",
       "      <th>fl</th>\n",
       "      <th>class</th>\n",
       "    </tr>\n",
       "  </thead>\n",
       "  <tbody>\n",
       "    <tr>\n",
       "      <td>1</td>\n",
       "      <td>audi</td>\n",
       "      <td>a4</td>\n",
       "      <td>1.8</td>\n",
       "      <td>1999</td>\n",
       "      <td>4</td>\n",
       "      <td>auto</td>\n",
       "      <td>f</td>\n",
       "      <td>18</td>\n",
       "      <td>29</td>\n",
       "      <td>p</td>\n",
       "      <td>compact</td>\n",
       "    </tr>\n",
       "    <tr>\n",
       "      <td>2</td>\n",
       "      <td>audi</td>\n",
       "      <td>a4</td>\n",
       "      <td>1.8</td>\n",
       "      <td>1999</td>\n",
       "      <td>4</td>\n",
       "      <td>manual</td>\n",
       "      <td>f</td>\n",
       "      <td>21</td>\n",
       "      <td>29</td>\n",
       "      <td>p</td>\n",
       "      <td>compact</td>\n",
       "    </tr>\n",
       "    <tr>\n",
       "      <td>3</td>\n",
       "      <td>audi</td>\n",
       "      <td>a4</td>\n",
       "      <td>2.0</td>\n",
       "      <td>2008</td>\n",
       "      <td>4</td>\n",
       "      <td>manual</td>\n",
       "      <td>f</td>\n",
       "      <td>20</td>\n",
       "      <td>31</td>\n",
       "      <td>p</td>\n",
       "      <td>compact</td>\n",
       "    </tr>\n",
       "    <tr>\n",
       "      <td>4</td>\n",
       "      <td>audi</td>\n",
       "      <td>a4</td>\n",
       "      <td>2.0</td>\n",
       "      <td>2008</td>\n",
       "      <td>4</td>\n",
       "      <td>auto</td>\n",
       "      <td>f</td>\n",
       "      <td>21</td>\n",
       "      <td>30</td>\n",
       "      <td>p</td>\n",
       "      <td>compact</td>\n",
       "    </tr>\n",
       "    <tr>\n",
       "      <td>5</td>\n",
       "      <td>audi</td>\n",
       "      <td>a4</td>\n",
       "      <td>2.8</td>\n",
       "      <td>1999</td>\n",
       "      <td>6</td>\n",
       "      <td>auto</td>\n",
       "      <td>f</td>\n",
       "      <td>16</td>\n",
       "      <td>26</td>\n",
       "      <td>p</td>\n",
       "      <td>compact</td>\n",
       "    </tr>\n",
       "    <tr>\n",
       "      <td>...</td>\n",
       "      <td>...</td>\n",
       "      <td>...</td>\n",
       "      <td>...</td>\n",
       "      <td>...</td>\n",
       "      <td>...</td>\n",
       "      <td>...</td>\n",
       "      <td>...</td>\n",
       "      <td>...</td>\n",
       "      <td>...</td>\n",
       "      <td>...</td>\n",
       "      <td>...</td>\n",
       "    </tr>\n",
       "    <tr>\n",
       "      <td>230</td>\n",
       "      <td>volkswagen</td>\n",
       "      <td>passat</td>\n",
       "      <td>2.0</td>\n",
       "      <td>2008</td>\n",
       "      <td>4</td>\n",
       "      <td>auto</td>\n",
       "      <td>f</td>\n",
       "      <td>19</td>\n",
       "      <td>28</td>\n",
       "      <td>p</td>\n",
       "      <td>midsize</td>\n",
       "    </tr>\n",
       "    <tr>\n",
       "      <td>231</td>\n",
       "      <td>volkswagen</td>\n",
       "      <td>passat</td>\n",
       "      <td>2.0</td>\n",
       "      <td>2008</td>\n",
       "      <td>4</td>\n",
       "      <td>manual</td>\n",
       "      <td>f</td>\n",
       "      <td>21</td>\n",
       "      <td>29</td>\n",
       "      <td>p</td>\n",
       "      <td>midsize</td>\n",
       "    </tr>\n",
       "    <tr>\n",
       "      <td>232</td>\n",
       "      <td>volkswagen</td>\n",
       "      <td>passat</td>\n",
       "      <td>2.8</td>\n",
       "      <td>1999</td>\n",
       "      <td>6</td>\n",
       "      <td>auto</td>\n",
       "      <td>f</td>\n",
       "      <td>16</td>\n",
       "      <td>26</td>\n",
       "      <td>p</td>\n",
       "      <td>midsize</td>\n",
       "    </tr>\n",
       "    <tr>\n",
       "      <td>233</td>\n",
       "      <td>volkswagen</td>\n",
       "      <td>passat</td>\n",
       "      <td>2.8</td>\n",
       "      <td>1999</td>\n",
       "      <td>6</td>\n",
       "      <td>manual</td>\n",
       "      <td>f</td>\n",
       "      <td>18</td>\n",
       "      <td>26</td>\n",
       "      <td>p</td>\n",
       "      <td>midsize</td>\n",
       "    </tr>\n",
       "    <tr>\n",
       "      <td>234</td>\n",
       "      <td>volkswagen</td>\n",
       "      <td>passat</td>\n",
       "      <td>3.6</td>\n",
       "      <td>2008</td>\n",
       "      <td>6</td>\n",
       "      <td>auto</td>\n",
       "      <td>f</td>\n",
       "      <td>17</td>\n",
       "      <td>26</td>\n",
       "      <td>p</td>\n",
       "      <td>midsize</td>\n",
       "    </tr>\n",
       "  </tbody>\n",
       "</table>\n",
       "<p>234 rows × 11 columns</p>\n",
       "</div>"
      ],
      "text/plain": [
       "    manufacturer   model  displ  year  cyl   trans drv  cty  hwy fl    class\n",
       "1           audi      a4    1.8  1999    4    auto   f   18   29  p  compact\n",
       "2           audi      a4    1.8  1999    4  manual   f   21   29  p  compact\n",
       "3           audi      a4    2.0  2008    4  manual   f   20   31  p  compact\n",
       "4           audi      a4    2.0  2008    4    auto   f   21   30  p  compact\n",
       "5           audi      a4    2.8  1999    6    auto   f   16   26  p  compact\n",
       "..           ...     ...    ...   ...  ...     ...  ..  ...  ... ..      ...\n",
       "230   volkswagen  passat    2.0  2008    4    auto   f   19   28  p  midsize\n",
       "231   volkswagen  passat    2.0  2008    4  manual   f   21   29  p  midsize\n",
       "232   volkswagen  passat    2.8  1999    6    auto   f   16   26  p  midsize\n",
       "233   volkswagen  passat    2.8  1999    6  manual   f   18   26  p  midsize\n",
       "234   volkswagen  passat    3.6  2008    6    auto   f   17   26  p  midsize\n",
       "\n",
       "[234 rows x 11 columns]"
      ]
     },
     "execution_count": 30,
     "metadata": {},
     "output_type": "execute_result"
    }
   ],
   "source": [
    "mpg = data('mpg')\n",
    "mpg.trans = mpg.trans.str[:-4]\n",
    "mpg\n"
   ]
  },
  {
   "cell_type": "code",
   "execution_count": 35,
   "metadata": {
    "scrolled": true
   },
   "outputs": [
    {
     "data": {
      "text/html": [
       "<div>\n",
       "<style scoped>\n",
       "    .dataframe tbody tr th:only-of-type {\n",
       "        vertical-align: middle;\n",
       "    }\n",
       "\n",
       "    .dataframe tbody tr th {\n",
       "        vertical-align: top;\n",
       "    }\n",
       "\n",
       "    .dataframe thead th {\n",
       "        text-align: right;\n",
       "    }\n",
       "</style>\n",
       "<table border=\"1\" class=\"dataframe\">\n",
       "  <thead>\n",
       "    <tr style=\"text-align: right;\">\n",
       "      <th>trans</th>\n",
       "      <th>auto</th>\n",
       "      <th>manual</th>\n",
       "      <th>All</th>\n",
       "    </tr>\n",
       "    <tr>\n",
       "      <th>cyl</th>\n",
       "      <th></th>\n",
       "      <th></th>\n",
       "      <th></th>\n",
       "    </tr>\n",
       "  </thead>\n",
       "  <tbody>\n",
       "    <tr>\n",
       "      <td>4</td>\n",
       "      <td>0.175214</td>\n",
       "      <td>0.170940</td>\n",
       "      <td>0.346154</td>\n",
       "    </tr>\n",
       "    <tr>\n",
       "      <td>5</td>\n",
       "      <td>0.008547</td>\n",
       "      <td>0.008547</td>\n",
       "      <td>0.017094</td>\n",
       "    </tr>\n",
       "    <tr>\n",
       "      <td>6</td>\n",
       "      <td>0.239316</td>\n",
       "      <td>0.098291</td>\n",
       "      <td>0.337607</td>\n",
       "    </tr>\n",
       "    <tr>\n",
       "      <td>8</td>\n",
       "      <td>0.247863</td>\n",
       "      <td>0.051282</td>\n",
       "      <td>0.299145</td>\n",
       "    </tr>\n",
       "    <tr>\n",
       "      <td>All</td>\n",
       "      <td>0.670940</td>\n",
       "      <td>0.329060</td>\n",
       "      <td>1.000000</td>\n",
       "    </tr>\n",
       "  </tbody>\n",
       "</table>\n",
       "</div>"
      ],
      "text/plain": [
       "trans      auto    manual       All\n",
       "cyl                                \n",
       "4      0.175214  0.170940  0.346154\n",
       "5      0.008547  0.008547  0.017094\n",
       "6      0.239316  0.098291  0.337607\n",
       "8      0.247863  0.051282  0.299145\n",
       "All    0.670940  0.329060  1.000000"
      ]
     },
     "execution_count": 35,
     "metadata": {},
     "output_type": "execute_result"
    }
   ],
   "source": [
    "pd.crosstab(mpg.cyl, mpg.trans, margins=True, normalize=True)"
   ]
  },
  {
   "cell_type": "code",
   "execution_count": 38,
   "metadata": {},
   "outputs": [
    {
     "data": {
      "text/html": [
       "<div>\n",
       "<style scoped>\n",
       "    .dataframe tbody tr th:only-of-type {\n",
       "        vertical-align: middle;\n",
       "    }\n",
       "\n",
       "    .dataframe tbody tr th {\n",
       "        vertical-align: top;\n",
       "    }\n",
       "\n",
       "    .dataframe thead th {\n",
       "        text-align: right;\n",
       "    }\n",
       "</style>\n",
       "<table border=\"1\" class=\"dataframe\">\n",
       "  <thead>\n",
       "    <tr style=\"text-align: right;\">\n",
       "      <th>trans</th>\n",
       "      <th>auto</th>\n",
       "      <th>manual</th>\n",
       "    </tr>\n",
       "    <tr>\n",
       "      <th>cyl</th>\n",
       "      <th></th>\n",
       "      <th></th>\n",
       "    </tr>\n",
       "  </thead>\n",
       "  <tbody>\n",
       "    <tr>\n",
       "      <td>4</td>\n",
       "      <td>41</td>\n",
       "      <td>40</td>\n",
       "    </tr>\n",
       "    <tr>\n",
       "      <td>5</td>\n",
       "      <td>2</td>\n",
       "      <td>2</td>\n",
       "    </tr>\n",
       "    <tr>\n",
       "      <td>6</td>\n",
       "      <td>56</td>\n",
       "      <td>23</td>\n",
       "    </tr>\n",
       "    <tr>\n",
       "      <td>8</td>\n",
       "      <td>58</td>\n",
       "      <td>12</td>\n",
       "    </tr>\n",
       "  </tbody>\n",
       "</table>\n",
       "</div>"
      ],
      "text/plain": [
       "trans  auto  manual\n",
       "cyl                \n",
       "4        41      40\n",
       "5         2       2\n",
       "6        56      23\n",
       "8        58      12"
      ]
     },
     "execution_count": 38,
     "metadata": {},
     "output_type": "execute_result"
    }
   ],
   "source": [
    "observed = pd.crosstab(mpg.cyl, mpg.trans)\n",
    "observed"
   ]
  },
  {
   "cell_type": "code",
   "execution_count": 43,
   "metadata": {},
   "outputs": [
    {
     "name": "stdout",
     "output_type": "stream",
     "text": [
      "Observed\n",
      "\n",
      "[[41 40]\n",
      " [ 2  2]\n",
      " [56 23]\n",
      " [58 12]]\n",
      "---\n",
      "Expected\n",
      "\n",
      "[[54.34615385 26.65384615]\n",
      " [ 2.68376068  1.31623932]\n",
      " [53.0042735  25.9957265 ]\n",
      " [46.96581197 23.03418803]]\n",
      "---\n",
      "\n",
      "chi^2 = 18.8823\n",
      "p     = 0.0003\n"
     ]
    }
   ],
   "source": [
    "chi2, p, degf, expected = stats.chi2_contingency(observed)\n",
    "chi2, p, degf, expected \n",
    "print('Observed\\n')\n",
    "print(observed.values)\n",
    "print('---\\nExpected\\n')\n",
    "print(expected)\n",
    "print('---\\n')\n",
    "print(f'chi^2 = {chi2:.4f}')\n",
    "print(f'p     = {p:.4f}')"
   ]
  },
  {
   "cell_type": "markdown",
   "metadata": {},
   "source": [
    "Because p (0.0003) < alpha (.05), reject the null hypothesis, which indicates that Cylinder type and transmission type are dependent on each other"
   ]
  },
  {
   "cell_type": "markdown",
   "metadata": {},
   "source": [
    "# Exercise 3\n",
    "Use the data from the employees database to answer these questions:\n",
    "\n",
    "$H_0$:   An employee's gender is independent on whether an employee works in sales or marketing. (only look at current employees)\n",
    "\n",
    "$H_a$:   An employee's gender is dependent on whether an employee works in sales or marketing.\n"
   ]
  },
  {
   "cell_type": "code",
   "execution_count": 49,
   "metadata": {},
   "outputs": [
    {
     "data": {
      "text/html": [
       "<div>\n",
       "<style scoped>\n",
       "    .dataframe tbody tr th:only-of-type {\n",
       "        vertical-align: middle;\n",
       "    }\n",
       "\n",
       "    .dataframe tbody tr th {\n",
       "        vertical-align: top;\n",
       "    }\n",
       "\n",
       "    .dataframe thead th {\n",
       "        text-align: right;\n",
       "    }\n",
       "</style>\n",
       "<table border=\"1\" class=\"dataframe\">\n",
       "  <thead>\n",
       "    <tr style=\"text-align: right;\">\n",
       "      <th></th>\n",
       "      <th>dept_no</th>\n",
       "      <th>emp_no</th>\n",
       "      <th>birth_date</th>\n",
       "      <th>first_name</th>\n",
       "      <th>last_name</th>\n",
       "      <th>gender</th>\n",
       "      <th>hire_date</th>\n",
       "      <th>from_date</th>\n",
       "      <th>to_date</th>\n",
       "      <th>dept_name</th>\n",
       "    </tr>\n",
       "  </thead>\n",
       "  <tbody>\n",
       "    <tr>\n",
       "      <td>0</td>\n",
       "      <td>d001</td>\n",
       "      <td>10017</td>\n",
       "      <td>1958-07-06</td>\n",
       "      <td>Cristinel</td>\n",
       "      <td>Bouloucos</td>\n",
       "      <td>F</td>\n",
       "      <td>1993-08-03</td>\n",
       "      <td>1993-08-03</td>\n",
       "      <td>9999-01-01</td>\n",
       "      <td>Marketing</td>\n",
       "    </tr>\n",
       "    <tr>\n",
       "      <td>1</td>\n",
       "      <td>d001</td>\n",
       "      <td>10058</td>\n",
       "      <td>1954-10-01</td>\n",
       "      <td>Berhard</td>\n",
       "      <td>McFarlin</td>\n",
       "      <td>M</td>\n",
       "      <td>1987-04-13</td>\n",
       "      <td>1988-04-25</td>\n",
       "      <td>9999-01-01</td>\n",
       "      <td>Marketing</td>\n",
       "    </tr>\n",
       "    <tr>\n",
       "      <td>2</td>\n",
       "      <td>d001</td>\n",
       "      <td>10140</td>\n",
       "      <td>1957-03-11</td>\n",
       "      <td>Yucel</td>\n",
       "      <td>Auria</td>\n",
       "      <td>F</td>\n",
       "      <td>1991-03-14</td>\n",
       "      <td>1991-03-14</td>\n",
       "      <td>9999-01-01</td>\n",
       "      <td>Marketing</td>\n",
       "    </tr>\n",
       "    <tr>\n",
       "      <td>3</td>\n",
       "      <td>d001</td>\n",
       "      <td>10228</td>\n",
       "      <td>1953-04-21</td>\n",
       "      <td>Karoline</td>\n",
       "      <td>Cesareni</td>\n",
       "      <td>F</td>\n",
       "      <td>1991-08-26</td>\n",
       "      <td>1993-01-28</td>\n",
       "      <td>9999-01-01</td>\n",
       "      <td>Marketing</td>\n",
       "    </tr>\n",
       "    <tr>\n",
       "      <td>4</td>\n",
       "      <td>d001</td>\n",
       "      <td>10239</td>\n",
       "      <td>1955-03-31</td>\n",
       "      <td>Nikolaos</td>\n",
       "      <td>Llado</td>\n",
       "      <td>F</td>\n",
       "      <td>1995-05-08</td>\n",
       "      <td>1996-05-04</td>\n",
       "      <td>9999-01-01</td>\n",
       "      <td>Marketing</td>\n",
       "    </tr>\n",
       "    <tr>\n",
       "      <td>...</td>\n",
       "      <td>...</td>\n",
       "      <td>...</td>\n",
       "      <td>...</td>\n",
       "      <td>...</td>\n",
       "      <td>...</td>\n",
       "      <td>...</td>\n",
       "      <td>...</td>\n",
       "      <td>...</td>\n",
       "      <td>...</td>\n",
       "      <td>...</td>\n",
       "    </tr>\n",
       "    <tr>\n",
       "      <td>52538</td>\n",
       "      <td>d007</td>\n",
       "      <td>499966</td>\n",
       "      <td>1955-12-04</td>\n",
       "      <td>Mihalis</td>\n",
       "      <td>Crabtree</td>\n",
       "      <td>F</td>\n",
       "      <td>1985-06-13</td>\n",
       "      <td>1985-06-13</td>\n",
       "      <td>9999-01-01</td>\n",
       "      <td>Sales</td>\n",
       "    </tr>\n",
       "    <tr>\n",
       "      <td>52539</td>\n",
       "      <td>d007</td>\n",
       "      <td>499976</td>\n",
       "      <td>1963-08-20</td>\n",
       "      <td>Guozhong</td>\n",
       "      <td>Felder</td>\n",
       "      <td>M</td>\n",
       "      <td>1988-12-26</td>\n",
       "      <td>1988-12-26</td>\n",
       "      <td>9999-01-01</td>\n",
       "      <td>Sales</td>\n",
       "    </tr>\n",
       "    <tr>\n",
       "      <td>52540</td>\n",
       "      <td>d007</td>\n",
       "      <td>499980</td>\n",
       "      <td>1959-06-28</td>\n",
       "      <td>Gino</td>\n",
       "      <td>Usery</td>\n",
       "      <td>M</td>\n",
       "      <td>1991-02-11</td>\n",
       "      <td>1991-02-11</td>\n",
       "      <td>9999-01-01</td>\n",
       "      <td>Sales</td>\n",
       "    </tr>\n",
       "    <tr>\n",
       "      <td>52541</td>\n",
       "      <td>d007</td>\n",
       "      <td>499986</td>\n",
       "      <td>1952-07-22</td>\n",
       "      <td>Nathan</td>\n",
       "      <td>Ranta</td>\n",
       "      <td>F</td>\n",
       "      <td>1985-08-11</td>\n",
       "      <td>1985-08-11</td>\n",
       "      <td>9999-01-01</td>\n",
       "      <td>Sales</td>\n",
       "    </tr>\n",
       "    <tr>\n",
       "      <td>52542</td>\n",
       "      <td>d007</td>\n",
       "      <td>499987</td>\n",
       "      <td>1961-09-05</td>\n",
       "      <td>Rimli</td>\n",
       "      <td>Dusink</td>\n",
       "      <td>F</td>\n",
       "      <td>1998-09-20</td>\n",
       "      <td>1999-12-21</td>\n",
       "      <td>9999-01-01</td>\n",
       "      <td>Sales</td>\n",
       "    </tr>\n",
       "  </tbody>\n",
       "</table>\n",
       "<p>52543 rows × 10 columns</p>\n",
       "</div>"
      ],
      "text/plain": [
       "      dept_no  emp_no  birth_date first_name  last_name gender   hire_date  \\\n",
       "0        d001   10017  1958-07-06  Cristinel  Bouloucos      F  1993-08-03   \n",
       "1        d001   10058  1954-10-01    Berhard   McFarlin      M  1987-04-13   \n",
       "2        d001   10140  1957-03-11      Yucel      Auria      F  1991-03-14   \n",
       "3        d001   10228  1953-04-21   Karoline   Cesareni      F  1991-08-26   \n",
       "4        d001   10239  1955-03-31   Nikolaos      Llado      F  1995-05-08   \n",
       "...       ...     ...         ...        ...        ...    ...         ...   \n",
       "52538    d007  499966  1955-12-04    Mihalis   Crabtree      F  1985-06-13   \n",
       "52539    d007  499976  1963-08-20   Guozhong     Felder      M  1988-12-26   \n",
       "52540    d007  499980  1959-06-28       Gino      Usery      M  1991-02-11   \n",
       "52541    d007  499986  1952-07-22     Nathan      Ranta      F  1985-08-11   \n",
       "52542    d007  499987  1961-09-05      Rimli     Dusink      F  1998-09-20   \n",
       "\n",
       "        from_date     to_date  dept_name  \n",
       "0      1993-08-03  9999-01-01  Marketing  \n",
       "1      1988-04-25  9999-01-01  Marketing  \n",
       "2      1991-03-14  9999-01-01  Marketing  \n",
       "3      1993-01-28  9999-01-01  Marketing  \n",
       "4      1996-05-04  9999-01-01  Marketing  \n",
       "...           ...         ...        ...  \n",
       "52538  1985-06-13  9999-01-01      Sales  \n",
       "52539  1988-12-26  9999-01-01      Sales  \n",
       "52540  1991-02-11  9999-01-01      Sales  \n",
       "52541  1985-08-11  9999-01-01      Sales  \n",
       "52542  1999-12-21  9999-01-01      Sales  \n",
       "\n",
       "[52543 rows x 10 columns]"
      ]
     },
     "execution_count": 49,
     "metadata": {},
     "output_type": "execute_result"
    }
   ],
   "source": [
    "query = \"\"\"\n",
    "SELECT * FROM employees \n",
    "JOIN dept_emp USING(emp_no)\n",
    "JOIN departments USING(dept_no)\n",
    "WHERE (dept_name = 'Marketing' OR dept_name = 'Sales') and dept_emp.to_date > now();\n",
    "    \"\"\"\n",
    "url = get_db_url(\"employees\")\n",
    "gender_and_dept = pd.read_sql(query, url)\n",
    "gender_and_dept"
   ]
  },
  {
   "cell_type": "code",
   "execution_count": 50,
   "metadata": {},
   "outputs": [
    {
     "data": {
      "text/html": [
       "<div>\n",
       "<style scoped>\n",
       "    .dataframe tbody tr th:only-of-type {\n",
       "        vertical-align: middle;\n",
       "    }\n",
       "\n",
       "    .dataframe tbody tr th {\n",
       "        vertical-align: top;\n",
       "    }\n",
       "\n",
       "    .dataframe thead th {\n",
       "        text-align: right;\n",
       "    }\n",
       "</style>\n",
       "<table border=\"1\" class=\"dataframe\">\n",
       "  <thead>\n",
       "    <tr style=\"text-align: right;\">\n",
       "      <th>dept_name</th>\n",
       "      <th>Marketing</th>\n",
       "      <th>Sales</th>\n",
       "    </tr>\n",
       "    <tr>\n",
       "      <th>gender</th>\n",
       "      <th></th>\n",
       "      <th></th>\n",
       "    </tr>\n",
       "  </thead>\n",
       "  <tbody>\n",
       "    <tr>\n",
       "      <td>F</td>\n",
       "      <td>5864</td>\n",
       "      <td>14999</td>\n",
       "    </tr>\n",
       "    <tr>\n",
       "      <td>M</td>\n",
       "      <td>8978</td>\n",
       "      <td>22702</td>\n",
       "    </tr>\n",
       "  </tbody>\n",
       "</table>\n",
       "</div>"
      ],
      "text/plain": [
       "dept_name  Marketing  Sales\n",
       "gender                     \n",
       "F               5864  14999\n",
       "M               8978  22702"
      ]
     },
     "execution_count": 50,
     "metadata": {},
     "output_type": "execute_result"
    }
   ],
   "source": [
    "observed = pd.crosstab(gender_and_dept.gender, gender_and_dept.dept_name)\n",
    "observed"
   ]
  },
  {
   "cell_type": "code",
   "execution_count": 51,
   "metadata": {},
   "outputs": [
    {
     "name": "stdout",
     "output_type": "stream",
     "text": [
      "Observed\n",
      "\n",
      "[[ 5864 14999]\n",
      " [ 8978 22702]]\n",
      "---\n",
      "Expected\n",
      "\n",
      "[[ 5893.2426013 14969.7573987]\n",
      " [ 8948.7573987 22731.2426013]]\n",
      "---\n",
      "\n",
      "chi^2 = 0.3240\n",
      "p     = 0.5692\n"
     ]
    }
   ],
   "source": [
    "chi2, p, degf, expected = stats.chi2_contingency(observed)\n",
    "chi2, p, degf, expected \n",
    "print('Observed\\n')\n",
    "print(observed.values)\n",
    "print('---\\nExpected\\n')\n",
    "print(expected)\n",
    "print('---\\n')\n",
    "print(f'chi^2 = {chi2:.4f}')\n",
    "print(f'p     = {p:.4f}')"
   ]
  },
  {
   "cell_type": "code",
   "execution_count": 52,
   "metadata": {},
   "outputs": [
    {
     "name": "stdout",
     "output_type": "stream",
     "text": [
      "\n",
      "Because p (0.5692) > alpha (.05), we fail to reject the null hypothesis.\n",
      "\n"
     ]
    }
   ],
   "source": [
    "print(f'''\n",
    "Because p ({p:.4f}) > alpha (.05), we fail to reject the null hypothesis.\n",
    "''')"
   ]
  },
  {
   "cell_type": "markdown",
   "metadata": {},
   "source": [
    "$H_0$:   An employee's gender is independent on whether or not they are or have been a manager. \n",
    "\n",
    "$H_a$:   An employee's gender is dependent on whether or not they are or have been a manager."
   ]
  },
  {
   "cell_type": "code",
   "execution_count": 53,
   "metadata": {},
   "outputs": [
    {
     "data": {
      "text/html": [
       "<div>\n",
       "<style scoped>\n",
       "    .dataframe tbody tr th:only-of-type {\n",
       "        vertical-align: middle;\n",
       "    }\n",
       "\n",
       "    .dataframe tbody tr th {\n",
       "        vertical-align: top;\n",
       "    }\n",
       "\n",
       "    .dataframe thead th {\n",
       "        text-align: right;\n",
       "    }\n",
       "</style>\n",
       "<table border=\"1\" class=\"dataframe\">\n",
       "  <thead>\n",
       "    <tr style=\"text-align: right;\">\n",
       "      <th></th>\n",
       "      <th>emp_no</th>\n",
       "      <th>birth_date</th>\n",
       "      <th>first_name</th>\n",
       "      <th>last_name</th>\n",
       "      <th>gender</th>\n",
       "      <th>hire_date</th>\n",
       "      <th>dept_no</th>\n",
       "      <th>from_date</th>\n",
       "      <th>to_date</th>\n",
       "    </tr>\n",
       "  </thead>\n",
       "  <tbody>\n",
       "    <tr>\n",
       "      <td>0</td>\n",
       "      <td>110022</td>\n",
       "      <td>1956-09-12</td>\n",
       "      <td>Margareta</td>\n",
       "      <td>Markovitch</td>\n",
       "      <td>M</td>\n",
       "      <td>1985-01-01</td>\n",
       "      <td>d001</td>\n",
       "      <td>1985-01-01</td>\n",
       "      <td>1991-10-01</td>\n",
       "    </tr>\n",
       "    <tr>\n",
       "      <td>1</td>\n",
       "      <td>110039</td>\n",
       "      <td>1963-06-21</td>\n",
       "      <td>Vishwani</td>\n",
       "      <td>Minakawa</td>\n",
       "      <td>M</td>\n",
       "      <td>1986-04-12</td>\n",
       "      <td>d001</td>\n",
       "      <td>1991-10-01</td>\n",
       "      <td>9999-01-01</td>\n",
       "    </tr>\n",
       "    <tr>\n",
       "      <td>2</td>\n",
       "      <td>110085</td>\n",
       "      <td>1959-10-28</td>\n",
       "      <td>Ebru</td>\n",
       "      <td>Alpin</td>\n",
       "      <td>M</td>\n",
       "      <td>1985-01-01</td>\n",
       "      <td>d002</td>\n",
       "      <td>1985-01-01</td>\n",
       "      <td>1989-12-17</td>\n",
       "    </tr>\n",
       "    <tr>\n",
       "      <td>3</td>\n",
       "      <td>110114</td>\n",
       "      <td>1957-03-28</td>\n",
       "      <td>Isamu</td>\n",
       "      <td>Legleitner</td>\n",
       "      <td>F</td>\n",
       "      <td>1985-01-14</td>\n",
       "      <td>d002</td>\n",
       "      <td>1989-12-17</td>\n",
       "      <td>9999-01-01</td>\n",
       "    </tr>\n",
       "    <tr>\n",
       "      <td>4</td>\n",
       "      <td>110183</td>\n",
       "      <td>1953-06-24</td>\n",
       "      <td>Shirish</td>\n",
       "      <td>Ossenbruggen</td>\n",
       "      <td>F</td>\n",
       "      <td>1985-01-01</td>\n",
       "      <td>d003</td>\n",
       "      <td>1985-01-01</td>\n",
       "      <td>1992-03-21</td>\n",
       "    </tr>\n",
       "    <tr>\n",
       "      <td>5</td>\n",
       "      <td>110228</td>\n",
       "      <td>1958-12-02</td>\n",
       "      <td>Karsten</td>\n",
       "      <td>Sigstam</td>\n",
       "      <td>F</td>\n",
       "      <td>1985-08-04</td>\n",
       "      <td>d003</td>\n",
       "      <td>1992-03-21</td>\n",
       "      <td>9999-01-01</td>\n",
       "    </tr>\n",
       "    <tr>\n",
       "      <td>6</td>\n",
       "      <td>110303</td>\n",
       "      <td>1956-06-08</td>\n",
       "      <td>Krassimir</td>\n",
       "      <td>Wegerle</td>\n",
       "      <td>F</td>\n",
       "      <td>1985-01-01</td>\n",
       "      <td>d004</td>\n",
       "      <td>1985-01-01</td>\n",
       "      <td>1988-09-09</td>\n",
       "    </tr>\n",
       "    <tr>\n",
       "      <td>7</td>\n",
       "      <td>110344</td>\n",
       "      <td>1961-09-07</td>\n",
       "      <td>Rosine</td>\n",
       "      <td>Cools</td>\n",
       "      <td>F</td>\n",
       "      <td>1985-11-22</td>\n",
       "      <td>d004</td>\n",
       "      <td>1988-09-09</td>\n",
       "      <td>1992-08-02</td>\n",
       "    </tr>\n",
       "    <tr>\n",
       "      <td>8</td>\n",
       "      <td>110386</td>\n",
       "      <td>1953-10-04</td>\n",
       "      <td>Shem</td>\n",
       "      <td>Kieras</td>\n",
       "      <td>M</td>\n",
       "      <td>1988-10-14</td>\n",
       "      <td>d004</td>\n",
       "      <td>1992-08-02</td>\n",
       "      <td>1996-08-30</td>\n",
       "    </tr>\n",
       "    <tr>\n",
       "      <td>9</td>\n",
       "      <td>110420</td>\n",
       "      <td>1963-07-27</td>\n",
       "      <td>Oscar</td>\n",
       "      <td>Ghazalie</td>\n",
       "      <td>M</td>\n",
       "      <td>1992-02-05</td>\n",
       "      <td>d004</td>\n",
       "      <td>1996-08-30</td>\n",
       "      <td>9999-01-01</td>\n",
       "    </tr>\n",
       "    <tr>\n",
       "      <td>10</td>\n",
       "      <td>110511</td>\n",
       "      <td>1957-07-08</td>\n",
       "      <td>DeForest</td>\n",
       "      <td>Hagimont</td>\n",
       "      <td>M</td>\n",
       "      <td>1985-01-01</td>\n",
       "      <td>d005</td>\n",
       "      <td>1985-01-01</td>\n",
       "      <td>1992-04-25</td>\n",
       "    </tr>\n",
       "    <tr>\n",
       "      <td>11</td>\n",
       "      <td>110567</td>\n",
       "      <td>1964-04-25</td>\n",
       "      <td>Leon</td>\n",
       "      <td>DasSarma</td>\n",
       "      <td>F</td>\n",
       "      <td>1986-10-21</td>\n",
       "      <td>d005</td>\n",
       "      <td>1992-04-25</td>\n",
       "      <td>9999-01-01</td>\n",
       "    </tr>\n",
       "    <tr>\n",
       "      <td>12</td>\n",
       "      <td>110725</td>\n",
       "      <td>1961-03-14</td>\n",
       "      <td>Peternela</td>\n",
       "      <td>Onuegbe</td>\n",
       "      <td>F</td>\n",
       "      <td>1985-01-01</td>\n",
       "      <td>d006</td>\n",
       "      <td>1985-01-01</td>\n",
       "      <td>1989-05-06</td>\n",
       "    </tr>\n",
       "    <tr>\n",
       "      <td>13</td>\n",
       "      <td>110765</td>\n",
       "      <td>1954-05-22</td>\n",
       "      <td>Rutger</td>\n",
       "      <td>Hofmeyr</td>\n",
       "      <td>F</td>\n",
       "      <td>1989-01-07</td>\n",
       "      <td>d006</td>\n",
       "      <td>1989-05-06</td>\n",
       "      <td>1991-09-12</td>\n",
       "    </tr>\n",
       "    <tr>\n",
       "      <td>14</td>\n",
       "      <td>110800</td>\n",
       "      <td>1963-02-07</td>\n",
       "      <td>Sanjoy</td>\n",
       "      <td>Quadeer</td>\n",
       "      <td>F</td>\n",
       "      <td>1986-08-12</td>\n",
       "      <td>d006</td>\n",
       "      <td>1991-09-12</td>\n",
       "      <td>1994-06-28</td>\n",
       "    </tr>\n",
       "    <tr>\n",
       "      <td>15</td>\n",
       "      <td>110854</td>\n",
       "      <td>1960-08-19</td>\n",
       "      <td>Dung</td>\n",
       "      <td>Pesch</td>\n",
       "      <td>M</td>\n",
       "      <td>1989-06-09</td>\n",
       "      <td>d006</td>\n",
       "      <td>1994-06-28</td>\n",
       "      <td>9999-01-01</td>\n",
       "    </tr>\n",
       "    <tr>\n",
       "      <td>16</td>\n",
       "      <td>111035</td>\n",
       "      <td>1962-02-24</td>\n",
       "      <td>Przemyslawa</td>\n",
       "      <td>Kaelbling</td>\n",
       "      <td>M</td>\n",
       "      <td>1985-01-01</td>\n",
       "      <td>d007</td>\n",
       "      <td>1985-01-01</td>\n",
       "      <td>1991-03-07</td>\n",
       "    </tr>\n",
       "    <tr>\n",
       "      <td>17</td>\n",
       "      <td>111133</td>\n",
       "      <td>1955-03-16</td>\n",
       "      <td>Hauke</td>\n",
       "      <td>Zhang</td>\n",
       "      <td>M</td>\n",
       "      <td>1986-12-30</td>\n",
       "      <td>d007</td>\n",
       "      <td>1991-03-07</td>\n",
       "      <td>9999-01-01</td>\n",
       "    </tr>\n",
       "    <tr>\n",
       "      <td>18</td>\n",
       "      <td>111400</td>\n",
       "      <td>1959-11-09</td>\n",
       "      <td>Arie</td>\n",
       "      <td>Staelin</td>\n",
       "      <td>M</td>\n",
       "      <td>1985-01-01</td>\n",
       "      <td>d008</td>\n",
       "      <td>1985-01-01</td>\n",
       "      <td>1991-04-08</td>\n",
       "    </tr>\n",
       "    <tr>\n",
       "      <td>19</td>\n",
       "      <td>111534</td>\n",
       "      <td>1952-06-27</td>\n",
       "      <td>Hilary</td>\n",
       "      <td>Kambil</td>\n",
       "      <td>F</td>\n",
       "      <td>1988-01-31</td>\n",
       "      <td>d008</td>\n",
       "      <td>1991-04-08</td>\n",
       "      <td>9999-01-01</td>\n",
       "    </tr>\n",
       "    <tr>\n",
       "      <td>20</td>\n",
       "      <td>111692</td>\n",
       "      <td>1954-10-05</td>\n",
       "      <td>Tonny</td>\n",
       "      <td>Butterworth</td>\n",
       "      <td>F</td>\n",
       "      <td>1985-01-01</td>\n",
       "      <td>d009</td>\n",
       "      <td>1985-01-01</td>\n",
       "      <td>1988-10-17</td>\n",
       "    </tr>\n",
       "    <tr>\n",
       "      <td>21</td>\n",
       "      <td>111784</td>\n",
       "      <td>1956-06-14</td>\n",
       "      <td>Marjo</td>\n",
       "      <td>Giarratana</td>\n",
       "      <td>F</td>\n",
       "      <td>1988-02-12</td>\n",
       "      <td>d009</td>\n",
       "      <td>1988-10-17</td>\n",
       "      <td>1992-09-08</td>\n",
       "    </tr>\n",
       "    <tr>\n",
       "      <td>22</td>\n",
       "      <td>111877</td>\n",
       "      <td>1962-10-18</td>\n",
       "      <td>Xiaobin</td>\n",
       "      <td>Spinelli</td>\n",
       "      <td>F</td>\n",
       "      <td>1991-08-17</td>\n",
       "      <td>d009</td>\n",
       "      <td>1992-09-08</td>\n",
       "      <td>1996-01-03</td>\n",
       "    </tr>\n",
       "    <tr>\n",
       "      <td>23</td>\n",
       "      <td>111939</td>\n",
       "      <td>1960-03-25</td>\n",
       "      <td>Yuchang</td>\n",
       "      <td>Weedman</td>\n",
       "      <td>M</td>\n",
       "      <td>1989-07-10</td>\n",
       "      <td>d009</td>\n",
       "      <td>1996-01-03</td>\n",
       "      <td>9999-01-01</td>\n",
       "    </tr>\n",
       "  </tbody>\n",
       "</table>\n",
       "</div>"
      ],
      "text/plain": [
       "    emp_no  birth_date   first_name     last_name gender   hire_date dept_no  \\\n",
       "0   110022  1956-09-12    Margareta    Markovitch      M  1985-01-01    d001   \n",
       "1   110039  1963-06-21     Vishwani      Minakawa      M  1986-04-12    d001   \n",
       "2   110085  1959-10-28         Ebru         Alpin      M  1985-01-01    d002   \n",
       "3   110114  1957-03-28        Isamu    Legleitner      F  1985-01-14    d002   \n",
       "4   110183  1953-06-24      Shirish  Ossenbruggen      F  1985-01-01    d003   \n",
       "5   110228  1958-12-02      Karsten       Sigstam      F  1985-08-04    d003   \n",
       "6   110303  1956-06-08    Krassimir       Wegerle      F  1985-01-01    d004   \n",
       "7   110344  1961-09-07       Rosine         Cools      F  1985-11-22    d004   \n",
       "8   110386  1953-10-04         Shem        Kieras      M  1988-10-14    d004   \n",
       "9   110420  1963-07-27        Oscar      Ghazalie      M  1992-02-05    d004   \n",
       "10  110511  1957-07-08     DeForest      Hagimont      M  1985-01-01    d005   \n",
       "11  110567  1964-04-25         Leon      DasSarma      F  1986-10-21    d005   \n",
       "12  110725  1961-03-14    Peternela       Onuegbe      F  1985-01-01    d006   \n",
       "13  110765  1954-05-22       Rutger       Hofmeyr      F  1989-01-07    d006   \n",
       "14  110800  1963-02-07       Sanjoy       Quadeer      F  1986-08-12    d006   \n",
       "15  110854  1960-08-19         Dung         Pesch      M  1989-06-09    d006   \n",
       "16  111035  1962-02-24  Przemyslawa     Kaelbling      M  1985-01-01    d007   \n",
       "17  111133  1955-03-16        Hauke         Zhang      M  1986-12-30    d007   \n",
       "18  111400  1959-11-09         Arie       Staelin      M  1985-01-01    d008   \n",
       "19  111534  1952-06-27       Hilary        Kambil      F  1988-01-31    d008   \n",
       "20  111692  1954-10-05        Tonny   Butterworth      F  1985-01-01    d009   \n",
       "21  111784  1956-06-14        Marjo    Giarratana      F  1988-02-12    d009   \n",
       "22  111877  1962-10-18      Xiaobin      Spinelli      F  1991-08-17    d009   \n",
       "23  111939  1960-03-25      Yuchang       Weedman      M  1989-07-10    d009   \n",
       "\n",
       "     from_date     to_date  \n",
       "0   1985-01-01  1991-10-01  \n",
       "1   1991-10-01  9999-01-01  \n",
       "2   1985-01-01  1989-12-17  \n",
       "3   1989-12-17  9999-01-01  \n",
       "4   1985-01-01  1992-03-21  \n",
       "5   1992-03-21  9999-01-01  \n",
       "6   1985-01-01  1988-09-09  \n",
       "7   1988-09-09  1992-08-02  \n",
       "8   1992-08-02  1996-08-30  \n",
       "9   1996-08-30  9999-01-01  \n",
       "10  1985-01-01  1992-04-25  \n",
       "11  1992-04-25  9999-01-01  \n",
       "12  1985-01-01  1989-05-06  \n",
       "13  1989-05-06  1991-09-12  \n",
       "14  1991-09-12  1994-06-28  \n",
       "15  1994-06-28  9999-01-01  \n",
       "16  1985-01-01  1991-03-07  \n",
       "17  1991-03-07  9999-01-01  \n",
       "18  1985-01-01  1991-04-08  \n",
       "19  1991-04-08  9999-01-01  \n",
       "20  1985-01-01  1988-10-17  \n",
       "21  1988-10-17  1992-09-08  \n",
       "22  1992-09-08  1996-01-03  \n",
       "23  1996-01-03  9999-01-01  "
      ]
     },
     "execution_count": 53,
     "metadata": {},
     "output_type": "execute_result"
    }
   ],
   "source": [
    "query = \"\"\"\n",
    "    SELECT * FROM employees \n",
    "   JOIN dept_manager USING(emp_no)\n",
    ";\n",
    "    \"\"\"\n",
    "url = get_db_url(\"employees\")\n",
    "gender_and_manager = pd.read_sql(query, url)\n",
    "gender_and_manager"
   ]
  },
  {
   "cell_type": "code",
   "execution_count": 54,
   "metadata": {},
   "outputs": [
    {
     "data": {
      "text/html": [
       "<div>\n",
       "<style scoped>\n",
       "    .dataframe tbody tr th:only-of-type {\n",
       "        vertical-align: middle;\n",
       "    }\n",
       "\n",
       "    .dataframe tbody tr th {\n",
       "        vertical-align: top;\n",
       "    }\n",
       "\n",
       "    .dataframe thead th {\n",
       "        text-align: right;\n",
       "    }\n",
       "</style>\n",
       "<table border=\"1\" class=\"dataframe\">\n",
       "  <thead>\n",
       "    <tr style=\"text-align: right;\">\n",
       "      <th>dept_no</th>\n",
       "      <th>d001</th>\n",
       "      <th>d002</th>\n",
       "      <th>d003</th>\n",
       "      <th>d004</th>\n",
       "      <th>d005</th>\n",
       "      <th>d006</th>\n",
       "      <th>d007</th>\n",
       "      <th>d008</th>\n",
       "      <th>d009</th>\n",
       "    </tr>\n",
       "    <tr>\n",
       "      <th>gender</th>\n",
       "      <th></th>\n",
       "      <th></th>\n",
       "      <th></th>\n",
       "      <th></th>\n",
       "      <th></th>\n",
       "      <th></th>\n",
       "      <th></th>\n",
       "      <th></th>\n",
       "      <th></th>\n",
       "    </tr>\n",
       "  </thead>\n",
       "  <tbody>\n",
       "    <tr>\n",
       "      <td>F</td>\n",
       "      <td>0</td>\n",
       "      <td>1</td>\n",
       "      <td>2</td>\n",
       "      <td>2</td>\n",
       "      <td>1</td>\n",
       "      <td>3</td>\n",
       "      <td>0</td>\n",
       "      <td>1</td>\n",
       "      <td>3</td>\n",
       "    </tr>\n",
       "    <tr>\n",
       "      <td>M</td>\n",
       "      <td>2</td>\n",
       "      <td>1</td>\n",
       "      <td>0</td>\n",
       "      <td>2</td>\n",
       "      <td>1</td>\n",
       "      <td>1</td>\n",
       "      <td>2</td>\n",
       "      <td>1</td>\n",
       "      <td>1</td>\n",
       "    </tr>\n",
       "  </tbody>\n",
       "</table>\n",
       "</div>"
      ],
      "text/plain": [
       "dept_no  d001  d002  d003  d004  d005  d006  d007  d008  d009\n",
       "gender                                                       \n",
       "F           0     1     2     2     1     3     0     1     3\n",
       "M           2     1     0     2     1     1     2     1     1"
      ]
     },
     "execution_count": 54,
     "metadata": {},
     "output_type": "execute_result"
    }
   ],
   "source": [
    "observed = pd.crosstab(gender_and_manager.gender, gender_and_manager.dept_no)\n",
    "observed"
   ]
  },
  {
   "cell_type": "code",
   "execution_count": 57,
   "metadata": {},
   "outputs": [
    {
     "data": {
      "text/plain": [
       "0.4444754330422406"
      ]
     },
     "execution_count": 57,
     "metadata": {},
     "output_type": "execute_result"
    }
   ],
   "source": [
    "chi2, p, degf, expected = stats.chi2_contingency(observed)\n",
    "p\n"
   ]
  },
  {
   "cell_type": "code",
   "execution_count": 58,
   "metadata": {},
   "outputs": [
    {
     "name": "stdout",
     "output_type": "stream",
     "text": [
      "\n",
      "Because p (0.4445) > alpha (.05), we fail to reject the null hypothesis.\n",
      "\n"
     ]
    }
   ],
   "source": [
    "print(f'''\n",
    "Because p ({p:.4f}) > alpha (.05), we fail to reject the null hypothesis.\n",
    "''')"
   ]
  },
  {
   "cell_type": "code",
   "execution_count": null,
   "metadata": {},
   "outputs": [],
   "source": [
    "'''SELECT\n",
    "    e.emp_no IN (SELECT emp_no FROM dept_manager) AS is_manager,\n",
    "    e.gender\n",
    "FROM employees e'''"
   ]
  }
 ],
 "metadata": {
  "kernelspec": {
   "display_name": "Python 3",
   "language": "python",
   "name": "python3"
  },
  "language_info": {
   "codemirror_mode": {
    "name": "ipython",
    "version": 3
   },
   "file_extension": ".py",
   "mimetype": "text/x-python",
   "name": "python",
   "nbconvert_exporter": "python",
   "pygments_lexer": "ipython3",
   "version": "3.7.4"
  }
 },
 "nbformat": 4,
 "nbformat_minor": 2
}
