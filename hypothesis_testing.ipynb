{
 "cells": [
  {
   "cell_type": "code",
   "execution_count": 20,
   "metadata": {},
   "outputs": [],
   "source": [
    "%matplotlib inline\n",
    "import numpy as np\n",
    "import pandas as pd\n",
    "import matplotlib.pyplot as plt\n",
    "np.random.seed(3)"
   ]
  },
  {
   "cell_type": "markdown",
   "metadata": {},
   "source": [
    "# Has the network latency gone up since we switched internet service providers?\n",
    "\n",
    "$H_0$: The network latency hasn't gone up since we switched internet service providers \n",
    "\n",
    "$H_a$: The network latency has gone up since we switched internet service providers\n",
    "\n",
    "True Negative : Failed to reject $H_0$, \n",
    "\n",
    "True Positive\n",
    "- small p-value -- < alpha (.001)\n",
    "- reject $H_0$\n",
    "- avg network latency  before switched internet service providers: 60ms\n",
    "- avg network latency  after switched internet service providers:  50ms\n",
    "\n",
    "False Positive\n",
    "- small p-value -- < alpha (.001)\n",
    "- reject $H_0$\n",
    "- The internet speed actually not inproved, but due to lower usage, the test result looks it has improved\n",
    "True Negative\n",
    "- higher p-value\n",
    "- fail to reject $H_0$\n",
    "- avg network latency  before switched internet service providers: 60ms\n",
    "- avg network latency  after switched internet service providers: 61ms\n",
    "\n",
    "False Negative\n",
    "- higher p-value\n",
    "- fail to reject $H_0$\n",
    "- avg network latency  before switched internet service providers: 60ms\n",
    "- avg survey score after plants: 61ms\n",
    "- The internet speed indeed inproved, but due to high usage, it didn't show up on the result"
   ]
  },
  {
   "cell_type": "markdown",
   "metadata": {},
   "source": [
    "# Is the website redesign any good?\n",
    "$H_0$: The website redesign is same as before.\n",
    "\n",
    "$H_a$: The website redesign is better than before.\n",
    "\n",
    "True Positive\n",
    "- small p-value -- < alpha (.001)\n",
    "- reject $H_0$\n",
    "- the click rate before the web redesign is 30%\n",
    "- the click rate after the web redesign is 40%\n",
    "\n",
    "False Positive\n",
    "- small p-value -- < alpha (.001)\n",
    "- reject $H_0$\n",
    "- the click rate before the web redesign is 30%\n",
    "- the click rate after the web redesign is 40%\n",
    "- Maybe beacuse a special event happened increased the click rate\n",
    "\n",
    "True Negative\n",
    "- higher p-value\n",
    "- fail to reject $H_0$\n",
    "- the click rate before the web redesign is 30%\n",
    "- the click rate after the web redesign is 30%\n",
    "\n",
    "False Negative\n",
    "- higher p-value\n",
    "- fail to reject $H_0$\n",
    "- the click rate before the web redesign is 30%\n",
    "- the click rate after the web redesign is 31%\n",
    "- The test results has no significant difference, but the reality is there is a significant difference "
   ]
  },
  {
   "cell_type": "markdown",
   "metadata": {},
   "source": [
    "# Is our television ad driving more sales?\n",
    "$H_0$:  Our sales is same as before since the start of our television ad.\n",
    "\n",
    "$H_a$:  Our sales is actually increased since the start of our television ad\n",
    "\n",
    "True Positive\n",
    "- small p-value -- < alpha (.001)\n",
    "- reject $H_0$\n",
    "- Our sales  before the start of television ad is 10000\n",
    "- Our sales  after  the start of television ad is 15000\n",
    "- taking into consideration, there's no other factors affect the results\n",
    "\n",
    "False Positive\n",
    "- small p-value -- < alpha (.001)\n",
    "- reject $H_0$\n",
    "- Our sales  before the start of television ad is 10000\n",
    "- Our sales  after  the start of television ad is 15000\n",
    "- Maybe a pandemic happens and our sales increased, no significant evidence to prove it's because of our television ad\n",
    "\n",
    "True Negative\n",
    "- higher p-value\n",
    "- fail to reject $H_0$\n",
    "- Our sales  before the start of television ad is 10000\n",
    "- Our sales  after  the start of television ad is 10500\n",
    "- no significant evidence to show the sale is actually changed a lot\n",
    "\n",
    "False Negative\n",
    "- higher p-value\n",
    "- fail to reject $H_0$\n",
    "- Our sales  before the start of television ad is 10000\n",
    "- Our sales  after  the start of television ad is 10000\n",
    "- The test results has no significant difference, but the reality is there is a significant difference of sales between before the tlevision ad and after the television ad"
   ]
  },
  {
   "cell_type": "code",
   "execution_count": null,
   "metadata": {},
   "outputs": [],
   "source": []
  }
 ],
 "metadata": {
  "kernelspec": {
   "display_name": "Python 3",
   "language": "python",
   "name": "python3"
  },
  "language_info": {
   "codemirror_mode": {
    "name": "ipython",
    "version": 3
   },
   "file_extension": ".py",
   "mimetype": "text/x-python",
   "name": "python",
   "nbconvert_exporter": "python",
   "pygments_lexer": "ipython3",
   "version": "3.7.4"
  }
 },
 "nbformat": 4,
 "nbformat_minor": 2
}
