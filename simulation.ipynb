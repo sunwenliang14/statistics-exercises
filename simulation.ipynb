{
 "cells": [
  {
   "cell_type": "code",
   "execution_count": 444,
   "metadata": {},
   "outputs": [],
   "source": [
    "%matplotlib inline\n",
    "import numpy as np\n",
    "import pandas as pd\n",
    "np.random.seed(3)"
   ]
  },
  {
   "cell_type": "code",
   "execution_count": 445,
   "metadata": {},
   "outputs": [
    {
     "data": {
      "text/plain": [
       "0.1711"
      ]
     },
     "execution_count": 445,
     "metadata": {},
     "output_type": "execute_result"
    }
   ],
   "source": [
    "# question 1\n",
    "rolls = np.random.choice([1, 2, 3, 4, 5, 6], size=(10_000, 2))\n",
    "(rolls[:,0] == rolls[:,1]).mean()"
   ]
  },
  {
   "cell_type": "code",
   "execution_count": 133,
   "metadata": {},
   "outputs": [
    {
     "data": {
      "text/plain": [
       "array([[0, 1, 1, ..., 1, 0, 1],\n",
       "       [0, 1, 0, ..., 1, 1, 1],\n",
       "       [0, 1, 1, ..., 1, 0, 0],\n",
       "       ...,\n",
       "       [0, 0, 1, ..., 0, 0, 0],\n",
       "       [0, 1, 0, ..., 1, 0, 0],\n",
       "       [0, 1, 0, ..., 1, 0, 0]])"
      ]
     },
     "execution_count": 133,
     "metadata": {},
     "output_type": "execute_result"
    }
   ],
   "source": [
    "# question 2\n",
    "# 1. represent our data -- 0 is tails, 1 is heads\n",
    "# 2. create a matrix (nrows, ncols)\n",
    "flips = np.random.choice([0, 1], size=(10_000, 8))\n",
    "flips"
   ]
  },
  {
   "cell_type": "code",
   "execution_count": 134,
   "metadata": {},
   "outputs": [
    {
     "data": {
      "text/plain": [
       "0.2242"
      ]
     },
     "execution_count": 134,
     "metadata": {},
     "output_type": "execute_result"
    }
   ],
   "source": [
    "\n",
    "simulation_results = flips.sum(axis=1)\n",
    "(simulation_results == 3).mean()"
   ]
  },
  {
   "cell_type": "code",
   "execution_count": 135,
   "metadata": {},
   "outputs": [
    {
     "data": {
      "text/plain": [
       "0.6381"
      ]
     },
     "execution_count": 135,
     "metadata": {},
     "output_type": "execute_result"
    }
   ],
   "source": [
    "(simulation_results > 3).mean()"
   ]
  },
  {
   "cell_type": "code",
   "execution_count": 447,
   "metadata": {},
   "outputs": [
    {
     "data": {
      "text/plain": [
       "array([[0, 0],\n",
       "       [0, 0],\n",
       "       [1, 1],\n",
       "       ...,\n",
       "       [0, 0],\n",
       "       [1, 0],\n",
       "       [1, 1]])"
      ]
     },
     "execution_count": 447,
     "metadata": {},
     "output_type": "execute_result"
    }
   ],
   "source": [
    "# question 3\n",
    "np.random.seed(3)\n",
    "# 1. Represent our data 0 - Web Development, 1- Data Science,\n",
    "# 2. Generate the matrix\n",
    "billboards = np.random.choice([0, 1], p=[.75, .25], size=(10_000, 2))\n",
    "billboards"
   ]
  },
  {
   "cell_type": "code",
   "execution_count": 448,
   "metadata": {},
   "outputs": [
    {
     "data": {
      "text/plain": [
       "0.061"
      ]
     },
     "execution_count": 448,
     "metadata": {},
     "output_type": "execute_result"
    }
   ],
   "source": [
    "billboards = billboards.sum(axis=1)\n",
    "(billboards == 2).mean()"
   ]
  },
  {
   "cell_type": "code",
   "execution_count": 449,
   "metadata": {},
   "outputs": [
    {
     "data": {
      "text/plain": [
       "array([[6., 4., 3., 0., 3.],\n",
       "       [2., 3., 2., 3., 2.],\n",
       "       [1., 4., 4., 6., 3.],\n",
       "       ...,\n",
       "       [4., 1., 4., 2., 4.],\n",
       "       [4., 2., 2., 1., 4.],\n",
       "       [5., 1., 0., 2., 1.]])"
      ]
     },
     "execution_count": 449,
     "metadata": {},
     "output_type": "execute_result"
    }
   ],
   "source": [
    "# question 4\n",
    "np.random.seed(3)\n",
    "poptarts = np.round(np.random.normal(3, 1.5, (10000, 5)))\n",
    "poptarts"
   ]
  },
  {
   "cell_type": "code",
   "execution_count": 450,
   "metadata": {},
   "outputs": [
    {
     "data": {
      "text/plain": [
       "0.6757"
      ]
     },
     "execution_count": 450,
     "metadata": {},
     "output_type": "execute_result"
    }
   ],
   "source": [
    "(poptarts.sum(axis=1) < 17).mean()"
   ]
  },
  {
   "cell_type": "code",
   "execution_count": 455,
   "metadata": {},
   "outputs": [
    {
     "data": {
      "text/plain": [
       "array([169.75074935, 159.04086632, 164.93118902, ..., 167.71134257,\n",
       "       173.3153846 , 173.35826653])"
      ]
     },
     "execution_count": 455,
     "metadata": {},
     "output_type": "execute_result"
    }
   ],
   "source": [
    "# question 5\n",
    "np.random.seed(3)\n",
    "men_heights = np.random.normal(178, 8, 10000)\n",
    "women_heights = np.random.normal(170, 6, 10000)\n",
    "men_heights\n",
    "women_heights"
   ]
  },
  {
   "cell_type": "code",
   "execution_count": 456,
   "metadata": {},
   "outputs": [
    {
     "data": {
      "text/plain": [
       "0.219"
      ]
     },
     "execution_count": 456,
     "metadata": {},
     "output_type": "execute_result"
    }
   ],
   "source": [
    "(women_heights > men_heights).mean()"
   ]
  },
  {
   "cell_type": "code",
   "execution_count": 234,
   "metadata": {},
   "outputs": [
    {
     "data": {
      "text/plain": [
       "0.8184024506760997"
      ]
     },
     "execution_count": 234,
     "metadata": {},
     "output_type": "execute_result"
    }
   ],
   "source": [
    "#question 6\n",
    "(249/250)**50"
   ]
  },
  {
   "cell_type": "code",
   "execution_count": 235,
   "metadata": {},
   "outputs": [
    {
     "data": {
      "text/plain": [
       "0.6697825712726458"
      ]
     },
     "execution_count": 235,
     "metadata": {},
     "output_type": "execute_result"
    }
   ],
   "source": [
    "(249/250)**100"
   ]
  },
  {
   "cell_type": "code",
   "execution_count": 243,
   "metadata": {},
   "outputs": [
    {
     "data": {
      "text/plain": [
       "0.4518483022503271"
      ]
     },
     "execution_count": 243,
     "metadata": {},
     "output_type": "execute_result"
    }
   ],
   "source": [
    "1 - (249/250)**150"
   ]
  },
  {
   "cell_type": "code",
   "execution_count": 245,
   "metadata": {},
   "outputs": [
    {
     "data": {
      "text/plain": [
       "0.1647032961586129"
      ]
     },
     "execution_count": 245,
     "metadata": {},
     "output_type": "execute_result"
    }
   ],
   "source": [
    "(249/250)**450 "
   ]
  },
  {
   "cell_type": "code",
   "execution_count": 459,
   "metadata": {},
   "outputs": [
    {
     "data": {
      "text/plain": [
       "array([[1, 1, 1, ..., 1, 1, 1],\n",
       "       [1, 1, 1, ..., 1, 1, 1],\n",
       "       [1, 1, 1, ..., 1, 1, 1],\n",
       "       ...,\n",
       "       [1, 1, 1, ..., 1, 1, 1],\n",
       "       [1, 1, 1, ..., 1, 1, 1],\n",
       "       [1, 1, 1, ..., 1, 1, 1]])"
      ]
     },
     "execution_count": 459,
     "metadata": {},
     "output_type": "execute_result"
    }
   ],
   "source": [
    "np.random.seed(3)\n",
    "s = np.random.choice([0,1],p = [1/250, 249/250], size = (10000, 50))\n",
    "s"
   ]
  },
  {
   "cell_type": "code",
   "execution_count": 460,
   "metadata": {
    "scrolled": true
   },
   "outputs": [
    {
     "data": {
      "text/plain": [
       "0.8203"
      ]
     },
     "execution_count": 460,
     "metadata": {},
     "output_type": "execute_result"
    }
   ],
   "source": [
    "(s.sum(axis=1) == 50).mean()"
   ]
  },
  {
   "cell_type": "code",
   "execution_count": 291,
   "metadata": {},
   "outputs": [],
   "source": [
    "s = np.random.choice([0,1],p = [1/250, 249/250], size = (10000, 100))"
   ]
  },
  {
   "cell_type": "code",
   "execution_count": 292,
   "metadata": {
    "scrolled": false
   },
   "outputs": [
    {
     "data": {
      "text/plain": [
       "0.6677"
      ]
     },
     "execution_count": 292,
     "metadata": {},
     "output_type": "execute_result"
    }
   ],
   "source": [
    "(s.sum(axis=1) == 100).mean()"
   ]
  },
  {
   "cell_type": "code",
   "execution_count": 295,
   "metadata": {},
   "outputs": [],
   "source": [
    "s = np.random.choice([0,1],p = [1/250, 249/250], size = (10000, 150))"
   ]
  },
  {
   "cell_type": "code",
   "execution_count": 296,
   "metadata": {},
   "outputs": [
    {
     "data": {
      "text/plain": [
       "0.4547"
      ]
     },
     "execution_count": 296,
     "metadata": {},
     "output_type": "execute_result"
    }
   ],
   "source": [
    "1 - (s.sum(axis=1) == 150).mean()"
   ]
  },
  {
   "cell_type": "code",
   "execution_count": 461,
   "metadata": {},
   "outputs": [],
   "source": [
    "s = np.random.choice([0,1],p = [1/250, 249/250], size = (10000, 450))"
   ]
  },
  {
   "cell_type": "code",
   "execution_count": 462,
   "metadata": {},
   "outputs": [
    {
     "data": {
      "text/plain": [
       "0.1662"
      ]
     },
     "execution_count": 462,
     "metadata": {},
     "output_type": "execute_result"
    }
   ],
   "source": [
    "(s.sum(axis=1) == 450).mean()"
   ]
  },
  {
   "cell_type": "code",
   "execution_count": 318,
   "metadata": {},
   "outputs": [
    {
     "data": {
      "text/plain": [
       "0.027"
      ]
     },
     "execution_count": 318,
     "metadata": {},
     "output_type": "execute_result"
    }
   ],
   "source": [
    "# question 7\n",
    "food_truck = np.random.choice([0,1],p = [0.3, 0.7], size = (10000, 3))\n",
    "(food_truck.sum(axis=1) == 0).mean()"
   ]
  },
  {
   "cell_type": "code",
   "execution_count": 322,
   "metadata": {},
   "outputs": [
    {
     "data": {
      "text/plain": [
       "0.9999"
      ]
     },
     "execution_count": 322,
     "metadata": {},
     "output_type": "execute_result"
    }
   ],
   "source": [
    "food_truck = np.random.choice([0,1],p = [0.3, 0.7], size = (10000, 7))\n",
    "1 - (food_truck.sum(axis=1) == 0).mean()"
   ]
  },
  {
   "cell_type": "code",
   "execution_count": 494,
   "metadata": {},
   "outputs": [
    {
     "data": {
      "text/plain": [
       "array([[276, 341, 113, ..., 267, 321, 306],\n",
       "       [316, 347,  71, ..., 216, 238, 190],\n",
       "       [118, 242,  16, ..., 317, 181, 365],\n",
       "       ...,\n",
       "       [363, 361, 171, ...,   9,  86, 334],\n",
       "       [165, 317, 233, ...,  10, 137, 309],\n",
       "       [321, 168, 199, ..., 365, 160,  91]])"
      ]
     },
     "execution_count": 494,
     "metadata": {},
     "output_type": "execute_result"
    }
   ],
   "source": [
    "# question 8\n",
    "rows = np.random.choice(range(1,366), size = (10000,23))\n",
    "rows"
   ]
  },
  {
   "cell_type": "code",
   "execution_count": 495,
   "metadata": {},
   "outputs": [
    {
     "data": {
      "text/html": [
       "<div>\n",
       "<style scoped>\n",
       "    .dataframe tbody tr th:only-of-type {\n",
       "        vertical-align: middle;\n",
       "    }\n",
       "\n",
       "    .dataframe tbody tr th {\n",
       "        vertical-align: top;\n",
       "    }\n",
       "\n",
       "    .dataframe thead th {\n",
       "        text-align: right;\n",
       "    }\n",
       "</style>\n",
       "<table border=\"1\" class=\"dataframe\">\n",
       "  <thead>\n",
       "    <tr style=\"text-align: right;\">\n",
       "      <th></th>\n",
       "      <th>0</th>\n",
       "      <th>1</th>\n",
       "      <th>2</th>\n",
       "      <th>3</th>\n",
       "      <th>4</th>\n",
       "      <th>5</th>\n",
       "      <th>6</th>\n",
       "      <th>7</th>\n",
       "      <th>8</th>\n",
       "      <th>9</th>\n",
       "      <th>...</th>\n",
       "      <th>14</th>\n",
       "      <th>15</th>\n",
       "      <th>16</th>\n",
       "      <th>17</th>\n",
       "      <th>18</th>\n",
       "      <th>19</th>\n",
       "      <th>20</th>\n",
       "      <th>21</th>\n",
       "      <th>22</th>\n",
       "      <th>n_unique</th>\n",
       "    </tr>\n",
       "  </thead>\n",
       "  <tbody>\n",
       "    <tr>\n",
       "      <td>0</td>\n",
       "      <td>276</td>\n",
       "      <td>341</td>\n",
       "      <td>113</td>\n",
       "      <td>324</td>\n",
       "      <td>10</td>\n",
       "      <td>178</td>\n",
       "      <td>150</td>\n",
       "      <td>250</td>\n",
       "      <td>346</td>\n",
       "      <td>324</td>\n",
       "      <td>...</td>\n",
       "      <td>243</td>\n",
       "      <td>300</td>\n",
       "      <td>336</td>\n",
       "      <td>251</td>\n",
       "      <td>207</td>\n",
       "      <td>320</td>\n",
       "      <td>267</td>\n",
       "      <td>321</td>\n",
       "      <td>306</td>\n",
       "      <td>22</td>\n",
       "    </tr>\n",
       "    <tr>\n",
       "      <td>1</td>\n",
       "      <td>316</td>\n",
       "      <td>347</td>\n",
       "      <td>71</td>\n",
       "      <td>13</td>\n",
       "      <td>212</td>\n",
       "      <td>102</td>\n",
       "      <td>183</td>\n",
       "      <td>174</td>\n",
       "      <td>346</td>\n",
       "      <td>18</td>\n",
       "      <td>...</td>\n",
       "      <td>153</td>\n",
       "      <td>222</td>\n",
       "      <td>268</td>\n",
       "      <td>293</td>\n",
       "      <td>359</td>\n",
       "      <td>309</td>\n",
       "      <td>216</td>\n",
       "      <td>238</td>\n",
       "      <td>190</td>\n",
       "      <td>23</td>\n",
       "    </tr>\n",
       "    <tr>\n",
       "      <td>2</td>\n",
       "      <td>118</td>\n",
       "      <td>242</td>\n",
       "      <td>16</td>\n",
       "      <td>288</td>\n",
       "      <td>128</td>\n",
       "      <td>47</td>\n",
       "      <td>85</td>\n",
       "      <td>138</td>\n",
       "      <td>79</td>\n",
       "      <td>261</td>\n",
       "      <td>...</td>\n",
       "      <td>64</td>\n",
       "      <td>175</td>\n",
       "      <td>44</td>\n",
       "      <td>354</td>\n",
       "      <td>40</td>\n",
       "      <td>316</td>\n",
       "      <td>317</td>\n",
       "      <td>181</td>\n",
       "      <td>365</td>\n",
       "      <td>23</td>\n",
       "    </tr>\n",
       "  </tbody>\n",
       "</table>\n",
       "<p>3 rows × 24 columns</p>\n",
       "</div>"
      ],
      "text/plain": [
       "     0    1    2    3    4    5    6    7    8    9  ...   14   15   16   17  \\\n",
       "0  276  341  113  324   10  178  150  250  346  324  ...  243  300  336  251   \n",
       "1  316  347   71   13  212  102  183  174  346   18  ...  153  222  268  293   \n",
       "2  118  242   16  288  128   47   85  138   79  261  ...   64  175   44  354   \n",
       "\n",
       "    18   19   20   21   22  n_unique  \n",
       "0  207  320  267  321  306        22  \n",
       "1  359  309  216  238  190        23  \n",
       "2   40  316  317  181  365        23  \n",
       "\n",
       "[3 rows x 24 columns]"
      ]
     },
     "execution_count": 495,
     "metadata": {},
     "output_type": "execute_result"
    }
   ],
   "source": [
    "df = pd.DataFrame(rows)\n",
    "df[\"n_unique\"] = df.nunique(axis=1)\n",
    "df.head(3)"
   ]
  },
  {
   "cell_type": "code",
   "execution_count": 496,
   "metadata": {},
   "outputs": [
    {
     "data": {
      "text/plain": [
       "0.3664"
      ]
     },
     "execution_count": 496,
     "metadata": {},
     "output_type": "execute_result"
    }
   ],
   "source": [
    "(df.n_unique == 22).mean()"
   ]
  },
  {
   "cell_type": "code",
   "execution_count": 499,
   "metadata": {},
   "outputs": [
    {
     "data": {
      "text/plain": [
       "array([[116, 275, 190, ...,  45,  87, 247],\n",
       "       [276,  80, 268, ...,  31, 343, 323],\n",
       "       [254, 263,  16, ...,  31, 161,  81],\n",
       "       ...,\n",
       "       [ 73, 296, 129, ...,  56,   1, 325],\n",
       "       [353, 139,  94, ..., 335,  97, 165],\n",
       "       [141,  83, 197, ..., 258, 182, 343]])"
      ]
     },
     "execution_count": 499,
     "metadata": {},
     "output_type": "execute_result"
    }
   ],
   "source": [
    "rows = np.random.choice(range(1,366), size = (10000,20))\n",
    "rows"
   ]
  },
  {
   "cell_type": "code",
   "execution_count": 500,
   "metadata": {},
   "outputs": [
    {
     "data": {
      "text/html": [
       "<div>\n",
       "<style scoped>\n",
       "    .dataframe tbody tr th:only-of-type {\n",
       "        vertical-align: middle;\n",
       "    }\n",
       "\n",
       "    .dataframe tbody tr th {\n",
       "        vertical-align: top;\n",
       "    }\n",
       "\n",
       "    .dataframe thead th {\n",
       "        text-align: right;\n",
       "    }\n",
       "</style>\n",
       "<table border=\"1\" class=\"dataframe\">\n",
       "  <thead>\n",
       "    <tr style=\"text-align: right;\">\n",
       "      <th></th>\n",
       "      <th>0</th>\n",
       "      <th>1</th>\n",
       "      <th>2</th>\n",
       "      <th>3</th>\n",
       "      <th>4</th>\n",
       "      <th>5</th>\n",
       "      <th>6</th>\n",
       "      <th>7</th>\n",
       "      <th>8</th>\n",
       "      <th>9</th>\n",
       "      <th>...</th>\n",
       "      <th>11</th>\n",
       "      <th>12</th>\n",
       "      <th>13</th>\n",
       "      <th>14</th>\n",
       "      <th>15</th>\n",
       "      <th>16</th>\n",
       "      <th>17</th>\n",
       "      <th>18</th>\n",
       "      <th>19</th>\n",
       "      <th>n_unique</th>\n",
       "    </tr>\n",
       "  </thead>\n",
       "  <tbody>\n",
       "    <tr>\n",
       "      <td>0</td>\n",
       "      <td>116</td>\n",
       "      <td>275</td>\n",
       "      <td>190</td>\n",
       "      <td>317</td>\n",
       "      <td>54</td>\n",
       "      <td>66</td>\n",
       "      <td>292</td>\n",
       "      <td>141</td>\n",
       "      <td>115</td>\n",
       "      <td>66</td>\n",
       "      <td>...</td>\n",
       "      <td>129</td>\n",
       "      <td>9</td>\n",
       "      <td>301</td>\n",
       "      <td>97</td>\n",
       "      <td>336</td>\n",
       "      <td>33</td>\n",
       "      <td>45</td>\n",
       "      <td>87</td>\n",
       "      <td>247</td>\n",
       "      <td>19</td>\n",
       "    </tr>\n",
       "    <tr>\n",
       "      <td>1</td>\n",
       "      <td>276</td>\n",
       "      <td>80</td>\n",
       "      <td>268</td>\n",
       "      <td>339</td>\n",
       "      <td>267</td>\n",
       "      <td>332</td>\n",
       "      <td>116</td>\n",
       "      <td>276</td>\n",
       "      <td>210</td>\n",
       "      <td>68</td>\n",
       "      <td>...</td>\n",
       "      <td>230</td>\n",
       "      <td>277</td>\n",
       "      <td>89</td>\n",
       "      <td>85</td>\n",
       "      <td>6</td>\n",
       "      <td>191</td>\n",
       "      <td>31</td>\n",
       "      <td>343</td>\n",
       "      <td>323</td>\n",
       "      <td>19</td>\n",
       "    </tr>\n",
       "    <tr>\n",
       "      <td>2</td>\n",
       "      <td>254</td>\n",
       "      <td>263</td>\n",
       "      <td>16</td>\n",
       "      <td>285</td>\n",
       "      <td>74</td>\n",
       "      <td>188</td>\n",
       "      <td>63</td>\n",
       "      <td>154</td>\n",
       "      <td>331</td>\n",
       "      <td>39</td>\n",
       "      <td>...</td>\n",
       "      <td>16</td>\n",
       "      <td>234</td>\n",
       "      <td>193</td>\n",
       "      <td>274</td>\n",
       "      <td>243</td>\n",
       "      <td>143</td>\n",
       "      <td>31</td>\n",
       "      <td>161</td>\n",
       "      <td>81</td>\n",
       "      <td>19</td>\n",
       "    </tr>\n",
       "  </tbody>\n",
       "</table>\n",
       "<p>3 rows × 21 columns</p>\n",
       "</div>"
      ],
      "text/plain": [
       "     0    1    2    3    4    5    6    7    8   9  ...   11   12   13   14  \\\n",
       "0  116  275  190  317   54   66  292  141  115  66  ...  129    9  301   97   \n",
       "1  276   80  268  339  267  332  116  276  210  68  ...  230  277   89   85   \n",
       "2  254  263   16  285   74  188   63  154  331  39  ...   16  234  193  274   \n",
       "\n",
       "    15   16  17   18   19  n_unique  \n",
       "0  336   33  45   87  247        19  \n",
       "1    6  191  31  343  323        19  \n",
       "2  243  143  31  161   81        19  \n",
       "\n",
       "[3 rows x 21 columns]"
      ]
     },
     "execution_count": 500,
     "metadata": {},
     "output_type": "execute_result"
    }
   ],
   "source": [
    "df = pd.DataFrame(rows)\n",
    "df[\"n_unique\"] = df.nunique(axis=1)\n",
    "df.head(3)"
   ]
  },
  {
   "cell_type": "code",
   "execution_count": 501,
   "metadata": {},
   "outputs": [
    {
     "data": {
      "text/plain": [
       "0.3201"
      ]
     },
     "execution_count": 501,
     "metadata": {},
     "output_type": "execute_result"
    }
   ],
   "source": [
    "(df.n_unique == 19).mean()"
   ]
  },
  {
   "cell_type": "code",
   "execution_count": 504,
   "metadata": {},
   "outputs": [
    {
     "data": {
      "text/plain": [
       "array([[ 41, 129,  79, ..., 108, 253, 253],\n",
       "       [309,  83, 155, ...,  88, 219,   5],\n",
       "       [ 15, 144, 162, ..., 244,  77,  99],\n",
       "       ...,\n",
       "       [103,  31, 265, ..., 157, 299,  22],\n",
       "       [253, 230, 299, ..., 365, 217,  58],\n",
       "       [365, 163, 331, ..., 170, 122, 234]])"
      ]
     },
     "execution_count": 504,
     "metadata": {},
     "output_type": "execute_result"
    }
   ],
   "source": [
    "rows = np.random.choice(range(1,366), size = (10000,40))\n",
    "rows"
   ]
  },
  {
   "cell_type": "code",
   "execution_count": 505,
   "metadata": {},
   "outputs": [
    {
     "data": {
      "text/html": [
       "<div>\n",
       "<style scoped>\n",
       "    .dataframe tbody tr th:only-of-type {\n",
       "        vertical-align: middle;\n",
       "    }\n",
       "\n",
       "    .dataframe tbody tr th {\n",
       "        vertical-align: top;\n",
       "    }\n",
       "\n",
       "    .dataframe thead th {\n",
       "        text-align: right;\n",
       "    }\n",
       "</style>\n",
       "<table border=\"1\" class=\"dataframe\">\n",
       "  <thead>\n",
       "    <tr style=\"text-align: right;\">\n",
       "      <th></th>\n",
       "      <th>0</th>\n",
       "      <th>1</th>\n",
       "      <th>2</th>\n",
       "      <th>3</th>\n",
       "      <th>4</th>\n",
       "      <th>5</th>\n",
       "      <th>6</th>\n",
       "      <th>7</th>\n",
       "      <th>8</th>\n",
       "      <th>9</th>\n",
       "      <th>...</th>\n",
       "      <th>31</th>\n",
       "      <th>32</th>\n",
       "      <th>33</th>\n",
       "      <th>34</th>\n",
       "      <th>35</th>\n",
       "      <th>36</th>\n",
       "      <th>37</th>\n",
       "      <th>38</th>\n",
       "      <th>39</th>\n",
       "      <th>n_unique</th>\n",
       "    </tr>\n",
       "  </thead>\n",
       "  <tbody>\n",
       "    <tr>\n",
       "      <td>0</td>\n",
       "      <td>41</td>\n",
       "      <td>129</td>\n",
       "      <td>79</td>\n",
       "      <td>274</td>\n",
       "      <td>184</td>\n",
       "      <td>44</td>\n",
       "      <td>99</td>\n",
       "      <td>257</td>\n",
       "      <td>255</td>\n",
       "      <td>244</td>\n",
       "      <td>...</td>\n",
       "      <td>300</td>\n",
       "      <td>262</td>\n",
       "      <td>179</td>\n",
       "      <td>123</td>\n",
       "      <td>181</td>\n",
       "      <td>199</td>\n",
       "      <td>108</td>\n",
       "      <td>253</td>\n",
       "      <td>253</td>\n",
       "      <td>39</td>\n",
       "    </tr>\n",
       "    <tr>\n",
       "      <td>1</td>\n",
       "      <td>309</td>\n",
       "      <td>83</td>\n",
       "      <td>155</td>\n",
       "      <td>57</td>\n",
       "      <td>205</td>\n",
       "      <td>311</td>\n",
       "      <td>271</td>\n",
       "      <td>162</td>\n",
       "      <td>345</td>\n",
       "      <td>314</td>\n",
       "      <td>...</td>\n",
       "      <td>178</td>\n",
       "      <td>122</td>\n",
       "      <td>359</td>\n",
       "      <td>35</td>\n",
       "      <td>182</td>\n",
       "      <td>134</td>\n",
       "      <td>88</td>\n",
       "      <td>219</td>\n",
       "      <td>5</td>\n",
       "      <td>37</td>\n",
       "    </tr>\n",
       "    <tr>\n",
       "      <td>2</td>\n",
       "      <td>15</td>\n",
       "      <td>144</td>\n",
       "      <td>162</td>\n",
       "      <td>165</td>\n",
       "      <td>236</td>\n",
       "      <td>67</td>\n",
       "      <td>359</td>\n",
       "      <td>280</td>\n",
       "      <td>92</td>\n",
       "      <td>157</td>\n",
       "      <td>...</td>\n",
       "      <td>125</td>\n",
       "      <td>23</td>\n",
       "      <td>211</td>\n",
       "      <td>107</td>\n",
       "      <td>5</td>\n",
       "      <td>76</td>\n",
       "      <td>244</td>\n",
       "      <td>77</td>\n",
       "      <td>99</td>\n",
       "      <td>38</td>\n",
       "    </tr>\n",
       "  </tbody>\n",
       "</table>\n",
       "<p>3 rows × 41 columns</p>\n",
       "</div>"
      ],
      "text/plain": [
       "     0    1    2    3    4    5    6    7    8    9  ...   31   32   33   34  \\\n",
       "0   41  129   79  274  184   44   99  257  255  244  ...  300  262  179  123   \n",
       "1  309   83  155   57  205  311  271  162  345  314  ...  178  122  359   35   \n",
       "2   15  144  162  165  236   67  359  280   92  157  ...  125   23  211  107   \n",
       "\n",
       "    35   36   37   38   39  n_unique  \n",
       "0  181  199  108  253  253        39  \n",
       "1  182  134   88  219    5        37  \n",
       "2    5   76  244   77   99        38  \n",
       "\n",
       "[3 rows x 41 columns]"
      ]
     },
     "execution_count": 505,
     "metadata": {},
     "output_type": "execute_result"
    }
   ],
   "source": [
    "df = pd.DataFrame(rows)\n",
    "df[\"n_unique\"] = df.nunique(axis=1)\n",
    "df.head(3)"
   ]
  },
  {
   "cell_type": "code",
   "execution_count": 506,
   "metadata": {},
   "outputs": [
    {
     "data": {
      "text/plain": [
       "0.2653"
      ]
     },
     "execution_count": 506,
     "metadata": {},
     "output_type": "execute_result"
    }
   ],
   "source": [
    "(df.n_unique == 39).mean()"
   ]
  },
  {
   "cell_type": "code",
   "execution_count": null,
   "metadata": {},
   "outputs": [],
   "source": []
  }
 ],
 "metadata": {
  "kernelspec": {
   "display_name": "Python 3",
   "language": "python",
   "name": "python3"
  },
  "language_info": {
   "codemirror_mode": {
    "name": "ipython",
    "version": 3
   },
   "file_extension": ".py",
   "mimetype": "text/x-python",
   "name": "python",
   "nbconvert_exporter": "python",
   "pygments_lexer": "ipython3",
   "version": "3.7.4"
  }
 },
 "nbformat": 4,
 "nbformat_minor": 2
}
