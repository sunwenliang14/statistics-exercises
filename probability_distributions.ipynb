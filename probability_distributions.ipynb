{
 "cells": [
  {
   "cell_type": "code",
   "execution_count": 1,
   "metadata": {},
   "outputs": [],
   "source": [
    "%matplotlib inline\n",
    "import matplotlib.pyplot as plt\n",
    "import numpy as np\n",
    "import pandas as pd\n",
    "from scipy import stats\n",
    "\n",
    "np.random.seed(123)"
   ]
  },
  {
   "cell_type": "code",
   "execution_count": 2,
   "metadata": {},
   "outputs": [
    {
     "data": {
      "image/png": "[encoded data removed]",
      "text/plain": [
       "<Figure size 432x288 with 1 Axes>"
      ]
     },
     "metadata": {
      "needs_background": "light"
     },
     "output_type": "display_data"
    }
   ],
   "source": [
    "# question 1\n",
    "x = range(10)\n",
    "y = stats.poisson(2).pmf(x)\n",
    "\n",
    "plt.title(\"Probabiliy of # of x Cars showing up during the noon hour\")\n",
    "plt.xlabel(\"# of cars\")\n",
    "plt.ylabel(\"Probability of # of x Cars showing up\")\n",
    "plt.bar(x, y, color=\"orange\", edgecolor=\"black\", width=1)\n",
    "plt.show()"
   ]
  },
  {
   "cell_type": "code",
   "execution_count": 3,
   "metadata": {},
   "outputs": [
    {
     "data": {
      "text/plain": [
       "(0.1353352832366127, 0.1353)"
      ]
     },
     "execution_count": 3,
     "metadata": {},
     "output_type": "execute_result"
    }
   ],
   "source": [
    "theory = stats.poisson(2).pmf(0)\n",
    "simulated = (stats.poisson(2).rvs(10_000) == 0).mean()\n",
    "theory,simulated"
   ]
  },
  {
   "cell_type": "code",
   "execution_count": 4,
   "metadata": {},
   "outputs": [
    {
     "data": {
      "text/plain": [
       "(0.32332358381693654, 0.3261)"
      ]
     },
     "execution_count": 4,
     "metadata": {},
     "output_type": "execute_result"
    }
   ],
   "source": [
    "theory = stats.poisson(2).sf(2)\n",
    "simulated = (stats.poisson(2).rvs(10_000) >= 3).mean()\n",
    "theory, simulated"
   ]
  },
  {
   "cell_type": "code",
   "execution_count": 5,
   "metadata": {},
   "outputs": [
    {
     "data": {
      "text/plain": [
       "(0.8646647167633873, 0.8635)"
      ]
     },
     "execution_count": 5,
     "metadata": {},
     "output_type": "execute_result"
    }
   ],
   "source": [
    "theory = stats.poisson(2).sf(0)\n",
    "simulated = (stats.poisson(2).rvs(10_000) >= 1).mean()\n",
    "theory, simulated"
   ]
  },
  {
   "cell_type": "code",
   "execution_count": 6,
   "metadata": {},
   "outputs": [
    {
     "data": {
      "text/plain": [
       "(3.4934560880854417, 3.492619473010303)"
      ]
     },
     "execution_count": 6,
     "metadata": {},
     "output_type": "execute_result"
    }
   ],
   "source": [
    "# question 2\n",
    "grade_distribution = stats.norm(3, .3)\n",
    "top_five_grades = grade_distribution.isf(.05)\n",
    "simulated = np.percentile(grade_distribution.rvs(10_000), 95)\n",
    "top_five_grades, simulated"
   ]
  },
  {
   "cell_type": "code",
   "execution_count": 7,
   "metadata": {},
   "outputs": [
    {
     "data": {
      "text/plain": [
       "(2.689069983151863, 2.6886204904286104)"
      ]
     },
     "execution_count": 7,
     "metadata": {},
     "output_type": "execute_result"
    }
   ],
   "source": [
    "bottom_15_GPA = grade_distribution.ppf(.15)\n",
    "simulated = np.percentile(grade_distribution.rvs(10_000), 15)\n",
    "bottom_15_GPA, simulated"
   ]
  },
  {
   "cell_type": "code",
   "execution_count": 8,
   "metadata": {},
   "outputs": [
    {
     "data": {
      "text/plain": [
       "(True, True)"
      ]
     },
     "execution_count": 8,
     "metadata": {},
     "output_type": "execute_result"
    }
   ],
   "source": [
    "gpa = 2.8\n",
    "theory = grade_distribution.ppf(.2) < gpa < grade_distribution.ppf(.3)\n",
    "simulated = np.percentile(grade_distribution.rvs(10_000), 20) < gpa < np.percentile(grade_distribution.rvs(10_000), 30)\n",
    "theory, simulated"
   ]
  },
  {
   "cell_type": "code",
   "execution_count": 9,
   "metadata": {},
   "outputs": [
    {
     "data": {
      "text/plain": [
       "(0.9522096477271853, 0.9525)"
      ]
     },
     "execution_count": 9,
     "metadata": {},
     "output_type": "execute_result"
    }
   ],
   "source": [
    "theory = grade_distribution.cdf(3.5)\n",
    "simulated = (grade_distribution.rvs(10_000) <= 3.5).mean()\n",
    "theory, simulated"
   ]
  },
  {
   "cell_type": "code",
   "execution_count": 10,
   "metadata": {},
   "outputs": [
    {
     "data": {
      "text/plain": [
       "(0.1397582363130086, 0.145)"
      ]
     },
     "execution_count": 10,
     "metadata": {},
     "output_type": "execute_result"
    }
   ],
   "source": [
    "# question 3\n",
    "clicks_distribution = stats.binom(4326, .02)\n",
    "theory = clicks_distribution.sf(96)\n",
    "simulation = (clicks_distribution.rvs(100_00) >= 97).mean()\n",
    "theory, simulation"
   ]
  },
  {
   "cell_type": "code",
   "execution_count": 11,
   "metadata": {},
   "outputs": [
    {
     "data": {
      "text/plain": [
       "(0.4528433576092388, 0.4592)"
      ]
     },
     "execution_count": 11,
     "metadata": {},
     "output_type": "execute_result"
    }
   ],
   "source": [
    "# question 4\n",
    "n = 60\n",
    "probability = .01\n",
    "theory = stats.binom(n, probability).sf(0)\n",
    "simulation = (stats.binom(n, probability).rvs(10_000) > 0).mean()\n",
    "theory, simulation"
   ]
  },
  {
   "cell_type": "code",
   "execution_count": 12,
   "metadata": {},
   "outputs": [
    {
     "data": {
      "text/plain": [
       "(0.8342199288437355, 0.8348)"
      ]
     },
     "execution_count": 12,
     "metadata": {},
     "output_type": "execute_result"
    }
   ],
   "source": [
    "#  question 5\n",
    "n_students = round(.9 * 3 * 22)\n",
    "theory = stats.binom(n_students, .03).sf(0)\n",
    "simulation = (stats.binom(n_students, .03).rvs(100_00) > 0).mean()\n",
    "theory, simulation"
   ]
  },
  {
   "cell_type": "code",
   "execution_count": 13,
   "metadata": {},
   "outputs": [
    {
     "data": {
      "text/plain": [
       "(0.027483031992576113, 0.027291040000000006)"
      ]
     },
     "execution_count": 13,
     "metadata": {},
     "output_type": "execute_result"
    }
   ],
   "source": [
    "n_days = 2\n",
    "(1-theory) ** n_days, (1-simulation) ** n_days"
   ]
  },
  {
   "cell_type": "code",
   "execution_count": 14,
   "metadata": {},
   "outputs": [
    {
     "data": {
      "text/plain": [
       "(0.0001252165138809122, 0.00012304110277932038)"
      ]
     },
     "execution_count": 14,
     "metadata": {},
     "output_type": "execute_result"
    }
   ],
   "source": [
    "n_days = 5\n",
    "(1-theory) ** n_days, (1-simulation) ** n_days"
   ]
  },
  {
   "cell_type": "code",
   "execution_count": 15,
   "metadata": {},
   "outputs": [
    {
     "data": {
      "text/plain": [
       "33"
      ]
     },
     "execution_count": 15,
     "metadata": {},
     "output_type": "execute_result"
    }
   ],
   "source": [
    "#  question 6\n",
    "time_to_order_and_eat = 2 + 10 + 15\n",
    "time_for_lunch = 60\n",
    "max_time_to_wait = time_for_lunch - time_to_order_and_eat\n",
    "max_time_to_wait"
   ]
  },
  {
   "cell_type": "code",
   "execution_count": 16,
   "metadata": {},
   "outputs": [
    {
     "data": {
      "text/plain": [
       "(0.6914624612740131, 0.6893)"
      ]
     },
     "execution_count": 16,
     "metadata": {},
     "output_type": "execute_result"
    }
   ],
   "source": [
    "avg_wait = 15 * 2 \n",
    "sd = 3 * 2 \n",
    "theory = stats.norm(avg_wait, sd).cdf(max_time_to_wait)\n",
    "simulated = (stats.norm(avg_wait, sd).rvs(10_000) <= max_time_to_wait).mean()\n",
    "theory, simulated"
   ]
  },
  {
   "cell_type": "code",
   "execution_count": 17,
   "metadata": {},
   "outputs": [],
   "source": [
    "#  question 7\n",
    "from env import get_db_url\n",
    "query = \"\"\"\n",
    "    select emp_no, salary from salaries \n",
    "    join dept_emp using(emp_no)\n",
    "    where salaries.to_date > curdate() \n",
    "    and dept_emp.to_date > curdate()\n",
    "    \"\"\"\n",
    "\n",
    "url = get_db_url(\"employees\")\n",
    "df = pd.read_sql(query, url)\n",
    "salaries = df.set_index(\"emp_no\")"
   ]
  },
  {
   "cell_type": "code",
   "execution_count": 18,
   "metadata": {},
   "outputs": [
    {
     "data": {
      "text/plain": [
       "(72012.23585730705, 17309.995380251985)"
      ]
     },
     "execution_count": 18,
     "metadata": {},
     "output_type": "execute_result"
    }
   ],
   "source": [
    "avg = salaries.mean()[\"salary\"]\n",
    "stdev = salaries.std()[\"salary\"]\n",
    "avg, stdev"
   ]
  },
  {
   "cell_type": "code",
   "execution_count": 19,
   "metadata": {},
   "outputs": [
    {
     "data": {
      "text/plain": [
       "(0.24385742480214434, 0.270614349252886)"
      ]
     },
     "execution_count": 19,
     "metadata": {},
     "output_type": "execute_result"
    }
   ],
   "source": [
    "theory = stats.norm(avg, stdev).cdf(60_000)\n",
    "actual = (salaries <= 60_000).mean()[\"salary\"]\n",
    "theory, actual"
   ]
  },
  {
   "cell_type": "code",
   "execution_count": 20,
   "metadata": {},
   "outputs": [
    {
     "data": {
      "text/plain": [
       "(0.09208819199804058, 0.1086272092752078)"
      ]
     },
     "execution_count": 20,
     "metadata": {},
     "output_type": "execute_result"
    }
   ],
   "source": [
    "theory = stats.norm(avg, stdev).sf(95_000)\n",
    "actual = (salaries > 95_000).mean()[\"salary\"]\n",
    "theory, actual"
   ]
  },
  {
   "cell_type": "code",
   "execution_count": 21,
   "metadata": {},
   "outputs": [
    {
     "data": {
      "text/plain": [
       "(0.3350605685446666, 0.325107028035515)"
      ]
     },
     "execution_count": 21,
     "metadata": {},
     "output_type": "execute_result"
    }
   ],
   "source": [
    "actual = ((salaries < 80_000) & (salaries > 65_000)).mean()[\"salary\"]\n",
    "\n",
    "above_65 = stats.norm(avg, stdev).sf(65_000)\n",
    "above_80 = stats.norm(avg, stdev).sf(80_000)\n",
    "theory = above_65 - above_80\n",
    "theory, actual"
   ]
  },
  {
   "cell_type": "code",
   "execution_count": 22,
   "metadata": {},
   "outputs": [
    {
     "data": {
      "text/plain": [
       "(100484.64454102777, 104225.84999999998)"
      ]
     },
     "execution_count": 22,
     "metadata": {},
     "output_type": "execute_result"
    }
   ],
   "source": [
    "theory = stats.norm(avg, stdev).isf(.05)\n",
    "actual = salaries.quantile(.95)[\"salary\"]\n",
    "theory, actual"
   ]
  },
  {
   "cell_type": "code",
   "execution_count": null,
   "metadata": {},
   "outputs": [],
   "source": []
  }
 ],
 "metadata": {
  "kernelspec": {
   "display_name": "Python 3",
   "language": "python",
   "name": "python3"
  },
  "language_info": {
   "codemirror_mode": {
    "name": "ipython",
    "version": 3
   },
   "file_extension": ".py",
   "mimetype": "text/x-python",
   "name": "python",
   "nbconvert_exporter": "python",
   "pygments_lexer": "ipython3",
   "version": "3.7.4"
  }
 },
 "nbformat": 4,
 "nbformat_minor": 2
}
